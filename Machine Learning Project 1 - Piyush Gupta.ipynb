{
 "cells": [
  {
   "cell_type": "markdown",
   "id": "cfd8f6e0",
   "metadata": {},
   "source": [
    "# MACHINE LEARNING  (by Prof.Krystyn Gutu)\n",
    "# PROJECT1: AMAZON STOCK ANALYSIS\n",
    "## CRN:-74016 ; FALL 2023\n",
    "## Submitted by: Piyush Gupta\n"
   ]
  },
  {
   "cell_type": "markdown",
   "id": "2ededf61",
   "metadata": {},
   "source": [
    "## Step 1: Import Necessary Libraries"
   ]
  },
  {
   "cell_type": "markdown",
   "id": "e12cf97f",
   "metadata": {},
   "source": [
    "**1. Yfinance is used to fetch financial data from Yahoo Finance. <br>\n",
    "2. Numpy is a library for the Python programming language, adding support for large, multi-dimensional arrays and matrices, along with a large collection of high-level mathematical functions to operate on these arrays.<br>Pandas is a fast, powerful, flexible and easy to use open source data analysis and manipulation tool, built on top of the Python programming language.<br>\n",
    "3. Train_test_split is a function in Sklearn model selection for splitting data arrays into two subsets: for training data and for Testing data. With this function, you don't need to divide the dataset manually.<br>\n",
    "4. Accuracy_score: In multilabel classification, this function computes subset accuracy which is a harsh metric since you require for each sample that each label set be correctly predicted.<br>\n",
    "5. Classification_report: Builds a text report showing the main classification metrics.<br>\n",
    "6. KNeighborsClassifier: Classifier implementing the k-nearest neighbors vote.<br>\n",
    "7. RandomForestClassifier: A random forest is a meta estimator that fits a number of decision tree classifiers on various sub-samples of the dataset and uses averaging to improve the predictive accuracy and control over-fitting.<br>\n",
    "8. GradientBoostingClassifier: GB builds an additive model in a forward stage-wise fashion; it allows for the optimization of arbitrary differentiable loss functions. In each stage n_classes_ regression trees are fit on the negative gradient of the binomial or multinomial deviance loss function.<br>\n",
    "9. SVC: C-Support Vector Classification<br>\n",
    "10. XGBClassifier: Implementation of the scikit-learn classifier interface for XGBoost.<br>11. Seaborn & Matplotlib: For Data Visualizations**"
   ]
  },
  {
   "cell_type": "code",
   "execution_count": 1,
   "id": "fd90df1c",
   "metadata": {},
   "outputs": [],
   "source": [
    "import yfinance as yf\n",
    "import numpy as np\n",
    "import pandas as pd\n",
    "from sklearn.model_selection import train_test_split\n",
    "from sklearn.metrics import accuracy_score, classification_report\n",
    "from sklearn.neighbors import KNeighborsClassifier\n",
    "from sklearn.ensemble import RandomForestClassifier, GradientBoostingClassifier\n",
    "from sklearn.svm import SVC\n",
    "from xgboost import XGBClassifier\n",
    "from sklearn.metrics import confusion_matrix\n",
    "import seaborn as sns\n",
    "import matplotlib.pyplot as plt"
   ]
  },
  {
   "cell_type": "markdown",
   "id": "23da478d",
   "metadata": {},
   "source": [
    "## Step 2: Importing Amazon's stock data from Yahoo Finance"
   ]
  },
  {
   "cell_type": "markdown",
   "id": "a237b2f2",
   "metadata": {},
   "source": [
    "**The download function from the yfinance library (aliased as yf) is used to download the Amazon (AMZN) data. <br> The start and end parameters define the date range of the data we are interested in (from January 1, 2015 to October 4th, 2023).**"
   ]
  },
  {
   "cell_type": "code",
   "execution_count": 2,
   "id": "39c70a7c",
   "metadata": {},
   "outputs": [
    {
     "name": "stdout",
     "output_type": "stream",
     "text": [
      "[*********************100%***********************]  1 of 1 completed\n"
     ]
    },
    {
     "data": {
      "text/html": [
       "<div>\n",
       "<style scoped>\n",
       "    .dataframe tbody tr th:only-of-type {\n",
       "        vertical-align: middle;\n",
       "    }\n",
       "\n",
       "    .dataframe tbody tr th {\n",
       "        vertical-align: top;\n",
       "    }\n",
       "\n",
       "    .dataframe thead th {\n",
       "        text-align: right;\n",
       "    }\n",
       "</style>\n",
       "<table border=\"1\" class=\"dataframe\">\n",
       "  <thead>\n",
       "    <tr style=\"text-align: right;\">\n",
       "      <th></th>\n",
       "      <th>Open</th>\n",
       "      <th>High</th>\n",
       "      <th>Low</th>\n",
       "      <th>Close</th>\n",
       "      <th>Adj Close</th>\n",
       "      <th>Volume</th>\n",
       "    </tr>\n",
       "    <tr>\n",
       "      <th>Date</th>\n",
       "      <th></th>\n",
       "      <th></th>\n",
       "      <th></th>\n",
       "      <th></th>\n",
       "      <th></th>\n",
       "      <th></th>\n",
       "    </tr>\n",
       "  </thead>\n",
       "  <tbody>\n",
       "    <tr>\n",
       "      <th>2015-01-02</th>\n",
       "      <td>15.629000</td>\n",
       "      <td>15.737500</td>\n",
       "      <td>15.348000</td>\n",
       "      <td>15.426000</td>\n",
       "      <td>15.426000</td>\n",
       "      <td>55664000</td>\n",
       "    </tr>\n",
       "    <tr>\n",
       "      <th>2015-01-05</th>\n",
       "      <td>15.350500</td>\n",
       "      <td>15.419000</td>\n",
       "      <td>15.042500</td>\n",
       "      <td>15.109500</td>\n",
       "      <td>15.109500</td>\n",
       "      <td>55484000</td>\n",
       "    </tr>\n",
       "    <tr>\n",
       "      <th>2015-01-06</th>\n",
       "      <td>15.112000</td>\n",
       "      <td>15.150000</td>\n",
       "      <td>14.619000</td>\n",
       "      <td>14.764500</td>\n",
       "      <td>14.764500</td>\n",
       "      <td>70380000</td>\n",
       "    </tr>\n",
       "    <tr>\n",
       "      <th>2015-01-07</th>\n",
       "      <td>14.875000</td>\n",
       "      <td>15.064000</td>\n",
       "      <td>14.766500</td>\n",
       "      <td>14.921000</td>\n",
       "      <td>14.921000</td>\n",
       "      <td>52806000</td>\n",
       "    </tr>\n",
       "    <tr>\n",
       "      <th>2015-01-08</th>\n",
       "      <td>15.016000</td>\n",
       "      <td>15.157000</td>\n",
       "      <td>14.805500</td>\n",
       "      <td>15.023000</td>\n",
       "      <td>15.023000</td>\n",
       "      <td>61768000</td>\n",
       "    </tr>\n",
       "    <tr>\n",
       "      <th>...</th>\n",
       "      <td>...</td>\n",
       "      <td>...</td>\n",
       "      <td>...</td>\n",
       "      <td>...</td>\n",
       "      <td>...</td>\n",
       "      <td>...</td>\n",
       "    </tr>\n",
       "    <tr>\n",
       "      <th>2023-09-27</th>\n",
       "      <td>125.760002</td>\n",
       "      <td>127.480003</td>\n",
       "      <td>124.129997</td>\n",
       "      <td>125.980003</td>\n",
       "      <td>125.980003</td>\n",
       "      <td>66553400</td>\n",
       "    </tr>\n",
       "    <tr>\n",
       "      <th>2023-09-28</th>\n",
       "      <td>124.040001</td>\n",
       "      <td>126.580002</td>\n",
       "      <td>123.040001</td>\n",
       "      <td>125.980003</td>\n",
       "      <td>125.980003</td>\n",
       "      <td>54555000</td>\n",
       "    </tr>\n",
       "    <tr>\n",
       "      <th>2023-09-29</th>\n",
       "      <td>128.199997</td>\n",
       "      <td>129.149994</td>\n",
       "      <td>126.320000</td>\n",
       "      <td>127.120003</td>\n",
       "      <td>127.120003</td>\n",
       "      <td>62377600</td>\n",
       "    </tr>\n",
       "    <tr>\n",
       "      <th>2023-10-02</th>\n",
       "      <td>127.279999</td>\n",
       "      <td>130.470001</td>\n",
       "      <td>126.540001</td>\n",
       "      <td>129.460007</td>\n",
       "      <td>129.460007</td>\n",
       "      <td>48029700</td>\n",
       "    </tr>\n",
       "    <tr>\n",
       "      <th>2023-10-03</th>\n",
       "      <td>128.059998</td>\n",
       "      <td>128.520004</td>\n",
       "      <td>124.250000</td>\n",
       "      <td>124.720001</td>\n",
       "      <td>124.720001</td>\n",
       "      <td>51565000</td>\n",
       "    </tr>\n",
       "  </tbody>\n",
       "</table>\n",
       "<p>2203 rows × 6 columns</p>\n",
       "</div>"
      ],
      "text/plain": [
       "                  Open        High         Low       Close   Adj Close  \\\n",
       "Date                                                                     \n",
       "2015-01-02   15.629000   15.737500   15.348000   15.426000   15.426000   \n",
       "2015-01-05   15.350500   15.419000   15.042500   15.109500   15.109500   \n",
       "2015-01-06   15.112000   15.150000   14.619000   14.764500   14.764500   \n",
       "2015-01-07   14.875000   15.064000   14.766500   14.921000   14.921000   \n",
       "2015-01-08   15.016000   15.157000   14.805500   15.023000   15.023000   \n",
       "...                ...         ...         ...         ...         ...   \n",
       "2023-09-27  125.760002  127.480003  124.129997  125.980003  125.980003   \n",
       "2023-09-28  124.040001  126.580002  123.040001  125.980003  125.980003   \n",
       "2023-09-29  128.199997  129.149994  126.320000  127.120003  127.120003   \n",
       "2023-10-02  127.279999  130.470001  126.540001  129.460007  129.460007   \n",
       "2023-10-03  128.059998  128.520004  124.250000  124.720001  124.720001   \n",
       "\n",
       "              Volume  \n",
       "Date                  \n",
       "2015-01-02  55664000  \n",
       "2015-01-05  55484000  \n",
       "2015-01-06  70380000  \n",
       "2015-01-07  52806000  \n",
       "2015-01-08  61768000  \n",
       "...              ...  \n",
       "2023-09-27  66553400  \n",
       "2023-09-28  54555000  \n",
       "2023-09-29  62377600  \n",
       "2023-10-02  48029700  \n",
       "2023-10-03  51565000  \n",
       "\n",
       "[2203 rows x 6 columns]"
      ]
     },
     "execution_count": 2,
     "metadata": {},
     "output_type": "execute_result"
    }
   ],
   "source": [
    "amzn_data = yf.download(\"AMZN\", start=\"2015-01-01\", end=\"2023-10-04\")\n",
    "\n",
    "# Displaying the downloaded data\n",
    "# The amzn_data variable now contains a DataFrame with the historical stock data for Amazon.\n",
    "# Using the variable name at the end like this in a Jupyter notebook cell will display the data in the cell's output.\n",
    "\n",
    "\n",
    "amzn_data_strat1 = amzn_data.copy() # to be used in strategy 1\n",
    "amzn_data_strat2 = amzn_data.copy() # to be used in strategy 2\n",
    "amzn_data"
   ]
  },
  {
   "cell_type": "markdown",
   "id": "415f749b",
   "metadata": {},
   "source": [
    "## Step 3: Data pre-processing"
   ]
  },
  {
   "cell_type": "markdown",
   "id": "e34e6999",
   "metadata": {},
   "source": [
    "**1. Checking the shape of the dataset - <br>The shape attribute of a DataFrame returns a tuple representing the dimensionality of the DataFrame. The first element of the tuple is the number of rows, and the second element is the number of columns.**\n"
   ]
  },
  {
   "cell_type": "code",
   "execution_count": 3,
   "id": "124aab61",
   "metadata": {},
   "outputs": [
    {
     "data": {
      "text/plain": [
       "(2203, 6)"
      ]
     },
     "execution_count": 3,
     "metadata": {},
     "output_type": "execute_result"
    }
   ],
   "source": [
    "amzn_data.shape"
   ]
  },
  {
   "cell_type": "markdown",
   "id": "aa5ede4a",
   "metadata": {},
   "source": [
    "**2. Descriptive Statistics of the Dataset - <br> The describe() method generates descriptive statistics of DataFrame. It provides a summary of the central tendency, dispersion, and shape of the distribution of a dataset.This method will return count, mean, standard deviation, minimum, 25th percentile (Q1), median (50th percentile or Q2), 75th percentile (Q3), and maximum of the columns. This helps in understanding the distribution and spread of values in each column of the dataset.**"
   ]
  },
  {
   "cell_type": "code",
   "execution_count": 4,
   "id": "f1a19512",
   "metadata": {},
   "outputs": [
    {
     "data": {
      "text/html": [
       "<div>\n",
       "<style scoped>\n",
       "    .dataframe tbody tr th:only-of-type {\n",
       "        vertical-align: middle;\n",
       "    }\n",
       "\n",
       "    .dataframe tbody tr th {\n",
       "        vertical-align: top;\n",
       "    }\n",
       "\n",
       "    .dataframe thead th {\n",
       "        text-align: right;\n",
       "    }\n",
       "</style>\n",
       "<table border=\"1\" class=\"dataframe\">\n",
       "  <thead>\n",
       "    <tr style=\"text-align: right;\">\n",
       "      <th></th>\n",
       "      <th>Open</th>\n",
       "      <th>High</th>\n",
       "      <th>Low</th>\n",
       "      <th>Close</th>\n",
       "      <th>Adj Close</th>\n",
       "      <th>Volume</th>\n",
       "    </tr>\n",
       "  </thead>\n",
       "  <tbody>\n",
       "    <tr>\n",
       "      <th>count</th>\n",
       "      <td>2203.000000</td>\n",
       "      <td>2203.000000</td>\n",
       "      <td>2203.000000</td>\n",
       "      <td>2203.000000</td>\n",
       "      <td>2203.000000</td>\n",
       "      <td>2.203000e+03</td>\n",
       "    </tr>\n",
       "    <tr>\n",
       "      <th>mean</th>\n",
       "      <td>90.643222</td>\n",
       "      <td>91.697018</td>\n",
       "      <td>89.482365</td>\n",
       "      <td>90.603260</td>\n",
       "      <td>90.603260</td>\n",
       "      <td>8.087675e+07</td>\n",
       "    </tr>\n",
       "    <tr>\n",
       "      <th>std</th>\n",
       "      <td>48.664649</td>\n",
       "      <td>49.274293</td>\n",
       "      <td>47.988292</td>\n",
       "      <td>48.610017</td>\n",
       "      <td>48.610017</td>\n",
       "      <td>4.078749e+07</td>\n",
       "    </tr>\n",
       "    <tr>\n",
       "      <th>min</th>\n",
       "      <td>14.314000</td>\n",
       "      <td>14.539500</td>\n",
       "      <td>14.262500</td>\n",
       "      <td>14.347500</td>\n",
       "      <td>14.347500</td>\n",
       "      <td>1.762600e+07</td>\n",
       "    </tr>\n",
       "    <tr>\n",
       "      <th>25%</th>\n",
       "      <td>42.585751</td>\n",
       "      <td>42.731750</td>\n",
       "      <td>42.363249</td>\n",
       "      <td>42.612501</td>\n",
       "      <td>42.612501</td>\n",
       "      <td>5.462200e+07</td>\n",
       "    </tr>\n",
       "    <tr>\n",
       "      <th>50%</th>\n",
       "      <td>89.651497</td>\n",
       "      <td>90.300003</td>\n",
       "      <td>88.629997</td>\n",
       "      <td>89.613998</td>\n",
       "      <td>89.613998</td>\n",
       "      <td>6.948600e+07</td>\n",
       "    </tr>\n",
       "    <tr>\n",
       "      <th>75%</th>\n",
       "      <td>129.980247</td>\n",
       "      <td>131.375000</td>\n",
       "      <td>128.205002</td>\n",
       "      <td>129.395004</td>\n",
       "      <td>129.395004</td>\n",
       "      <td>9.416700e+07</td>\n",
       "    </tr>\n",
       "    <tr>\n",
       "      <th>max</th>\n",
       "      <td>187.199997</td>\n",
       "      <td>188.654007</td>\n",
       "      <td>184.839493</td>\n",
       "      <td>186.570496</td>\n",
       "      <td>186.570496</td>\n",
       "      <td>4.771220e+08</td>\n",
       "    </tr>\n",
       "  </tbody>\n",
       "</table>\n",
       "</div>"
      ],
      "text/plain": [
       "              Open         High          Low        Close    Adj Close  \\\n",
       "count  2203.000000  2203.000000  2203.000000  2203.000000  2203.000000   \n",
       "mean     90.643222    91.697018    89.482365    90.603260    90.603260   \n",
       "std      48.664649    49.274293    47.988292    48.610017    48.610017   \n",
       "min      14.314000    14.539500    14.262500    14.347500    14.347500   \n",
       "25%      42.585751    42.731750    42.363249    42.612501    42.612501   \n",
       "50%      89.651497    90.300003    88.629997    89.613998    89.613998   \n",
       "75%     129.980247   131.375000   128.205002   129.395004   129.395004   \n",
       "max     187.199997   188.654007   184.839493   186.570496   186.570496   \n",
       "\n",
       "             Volume  \n",
       "count  2.203000e+03  \n",
       "mean   8.087675e+07  \n",
       "std    4.078749e+07  \n",
       "min    1.762600e+07  \n",
       "25%    5.462200e+07  \n",
       "50%    6.948600e+07  \n",
       "75%    9.416700e+07  \n",
       "max    4.771220e+08  "
      ]
     },
     "execution_count": 4,
     "metadata": {},
     "output_type": "execute_result"
    }
   ],
   "source": [
    "amzn_data.describe()"
   ]
  },
  {
   "cell_type": "markdown",
   "id": "456a5405",
   "metadata": {},
   "source": [
    "**3. Checking DataTypes of each column - <br>The dtypes attribute returns the data types of each column in the DataFrame. Understanding the data types of each column is crucial for further data processing and analysis. For example, if a column that is supposed to be numeric is identified as an object (string), you might need to convert it.**"
   ]
  },
  {
   "cell_type": "code",
   "execution_count": 5,
   "id": "320b8039",
   "metadata": {},
   "outputs": [
    {
     "data": {
      "text/plain": [
       "Open         float64\n",
       "High         float64\n",
       "Low          float64\n",
       "Close        float64\n",
       "Adj Close    float64\n",
       "Volume         int64\n",
       "dtype: object"
      ]
     },
     "execution_count": 5,
     "metadata": {},
     "output_type": "execute_result"
    }
   ],
   "source": [
    "amzn_data.dtypes"
   ]
  },
  {
   "cell_type": "markdown",
   "id": "d33816d2",
   "metadata": {},
   "source": [
    "**Checking for Missing Values - <br> The isnull() method returns a DataFrame of the same shape as the original, where each entry is a Boolean value that indicates whether the corresponding value in the original DataFrame is missing (NaN). True represents a missing value, and False represents a non-missing value.**"
   ]
  },
  {
   "cell_type": "code",
   "execution_count": 6,
   "id": "efe791b4",
   "metadata": {},
   "outputs": [
    {
     "data": {
      "text/html": [
       "<div>\n",
       "<style scoped>\n",
       "    .dataframe tbody tr th:only-of-type {\n",
       "        vertical-align: middle;\n",
       "    }\n",
       "\n",
       "    .dataframe tbody tr th {\n",
       "        vertical-align: top;\n",
       "    }\n",
       "\n",
       "    .dataframe thead th {\n",
       "        text-align: right;\n",
       "    }\n",
       "</style>\n",
       "<table border=\"1\" class=\"dataframe\">\n",
       "  <thead>\n",
       "    <tr style=\"text-align: right;\">\n",
       "      <th></th>\n",
       "      <th>Open</th>\n",
       "      <th>High</th>\n",
       "      <th>Low</th>\n",
       "      <th>Close</th>\n",
       "      <th>Adj Close</th>\n",
       "      <th>Volume</th>\n",
       "    </tr>\n",
       "    <tr>\n",
       "      <th>Date</th>\n",
       "      <th></th>\n",
       "      <th></th>\n",
       "      <th></th>\n",
       "      <th></th>\n",
       "      <th></th>\n",
       "      <th></th>\n",
       "    </tr>\n",
       "  </thead>\n",
       "  <tbody>\n",
       "    <tr>\n",
       "      <th>2015-01-02</th>\n",
       "      <td>False</td>\n",
       "      <td>False</td>\n",
       "      <td>False</td>\n",
       "      <td>False</td>\n",
       "      <td>False</td>\n",
       "      <td>False</td>\n",
       "    </tr>\n",
       "    <tr>\n",
       "      <th>2015-01-05</th>\n",
       "      <td>False</td>\n",
       "      <td>False</td>\n",
       "      <td>False</td>\n",
       "      <td>False</td>\n",
       "      <td>False</td>\n",
       "      <td>False</td>\n",
       "    </tr>\n",
       "    <tr>\n",
       "      <th>2015-01-06</th>\n",
       "      <td>False</td>\n",
       "      <td>False</td>\n",
       "      <td>False</td>\n",
       "      <td>False</td>\n",
       "      <td>False</td>\n",
       "      <td>False</td>\n",
       "    </tr>\n",
       "    <tr>\n",
       "      <th>2015-01-07</th>\n",
       "      <td>False</td>\n",
       "      <td>False</td>\n",
       "      <td>False</td>\n",
       "      <td>False</td>\n",
       "      <td>False</td>\n",
       "      <td>False</td>\n",
       "    </tr>\n",
       "    <tr>\n",
       "      <th>2015-01-08</th>\n",
       "      <td>False</td>\n",
       "      <td>False</td>\n",
       "      <td>False</td>\n",
       "      <td>False</td>\n",
       "      <td>False</td>\n",
       "      <td>False</td>\n",
       "    </tr>\n",
       "    <tr>\n",
       "      <th>...</th>\n",
       "      <td>...</td>\n",
       "      <td>...</td>\n",
       "      <td>...</td>\n",
       "      <td>...</td>\n",
       "      <td>...</td>\n",
       "      <td>...</td>\n",
       "    </tr>\n",
       "    <tr>\n",
       "      <th>2023-09-27</th>\n",
       "      <td>False</td>\n",
       "      <td>False</td>\n",
       "      <td>False</td>\n",
       "      <td>False</td>\n",
       "      <td>False</td>\n",
       "      <td>False</td>\n",
       "    </tr>\n",
       "    <tr>\n",
       "      <th>2023-09-28</th>\n",
       "      <td>False</td>\n",
       "      <td>False</td>\n",
       "      <td>False</td>\n",
       "      <td>False</td>\n",
       "      <td>False</td>\n",
       "      <td>False</td>\n",
       "    </tr>\n",
       "    <tr>\n",
       "      <th>2023-09-29</th>\n",
       "      <td>False</td>\n",
       "      <td>False</td>\n",
       "      <td>False</td>\n",
       "      <td>False</td>\n",
       "      <td>False</td>\n",
       "      <td>False</td>\n",
       "    </tr>\n",
       "    <tr>\n",
       "      <th>2023-10-02</th>\n",
       "      <td>False</td>\n",
       "      <td>False</td>\n",
       "      <td>False</td>\n",
       "      <td>False</td>\n",
       "      <td>False</td>\n",
       "      <td>False</td>\n",
       "    </tr>\n",
       "    <tr>\n",
       "      <th>2023-10-03</th>\n",
       "      <td>False</td>\n",
       "      <td>False</td>\n",
       "      <td>False</td>\n",
       "      <td>False</td>\n",
       "      <td>False</td>\n",
       "      <td>False</td>\n",
       "    </tr>\n",
       "  </tbody>\n",
       "</table>\n",
       "<p>2203 rows × 6 columns</p>\n",
       "</div>"
      ],
      "text/plain": [
       "             Open   High    Low  Close  Adj Close  Volume\n",
       "Date                                                     \n",
       "2015-01-02  False  False  False  False      False   False\n",
       "2015-01-05  False  False  False  False      False   False\n",
       "2015-01-06  False  False  False  False      False   False\n",
       "2015-01-07  False  False  False  False      False   False\n",
       "2015-01-08  False  False  False  False      False   False\n",
       "...           ...    ...    ...    ...        ...     ...\n",
       "2023-09-27  False  False  False  False      False   False\n",
       "2023-09-28  False  False  False  False      False   False\n",
       "2023-09-29  False  False  False  False      False   False\n",
       "2023-10-02  False  False  False  False      False   False\n",
       "2023-10-03  False  False  False  False      False   False\n",
       "\n",
       "[2203 rows x 6 columns]"
      ]
     },
     "execution_count": 6,
     "metadata": {},
     "output_type": "execute_result"
    }
   ],
   "source": [
    "amzn_data.isnull()"
   ]
  },
  {
   "cell_type": "markdown",
   "id": "0e250174",
   "metadata": {},
   "source": [
    "**Summarizing Missing Values Per Column - <br>This line of code will give you a Series where the index is the column names and the values are the counts of missing values in each column.**"
   ]
  },
  {
   "cell_type": "code",
   "execution_count": 7,
   "id": "74422a73",
   "metadata": {},
   "outputs": [
    {
     "data": {
      "text/plain": [
       "Open         0\n",
       "High         0\n",
       "Low          0\n",
       "Close        0\n",
       "Adj Close    0\n",
       "Volume       0\n",
       "dtype: int64"
      ]
     },
     "execution_count": 7,
     "metadata": {},
     "output_type": "execute_result"
    }
   ],
   "source": [
    "amzn_data.isnull().sum()"
   ]
  },
  {
   "cell_type": "code",
   "execution_count": 8,
   "id": "70193b6e",
   "metadata": {},
   "outputs": [
    {
     "data": {
      "text/html": [
       "<div>\n",
       "<style scoped>\n",
       "    .dataframe tbody tr th:only-of-type {\n",
       "        vertical-align: middle;\n",
       "    }\n",
       "\n",
       "    .dataframe tbody tr th {\n",
       "        vertical-align: top;\n",
       "    }\n",
       "\n",
       "    .dataframe thead th {\n",
       "        text-align: right;\n",
       "    }\n",
       "</style>\n",
       "<table border=\"1\" class=\"dataframe\">\n",
       "  <thead>\n",
       "    <tr style=\"text-align: right;\">\n",
       "      <th></th>\n",
       "      <th>Open</th>\n",
       "      <th>High</th>\n",
       "      <th>Low</th>\n",
       "      <th>Close</th>\n",
       "      <th>Adj Close</th>\n",
       "      <th>Volume</th>\n",
       "    </tr>\n",
       "    <tr>\n",
       "      <th>Date</th>\n",
       "      <th></th>\n",
       "      <th></th>\n",
       "      <th></th>\n",
       "      <th></th>\n",
       "      <th></th>\n",
       "      <th></th>\n",
       "    </tr>\n",
       "  </thead>\n",
       "  <tbody>\n",
       "    <tr>\n",
       "      <th>2015-01-02</th>\n",
       "      <td>15.629000</td>\n",
       "      <td>15.737500</td>\n",
       "      <td>15.348000</td>\n",
       "      <td>15.426000</td>\n",
       "      <td>15.426000</td>\n",
       "      <td>55664000</td>\n",
       "    </tr>\n",
       "    <tr>\n",
       "      <th>2015-01-05</th>\n",
       "      <td>15.350500</td>\n",
       "      <td>15.419000</td>\n",
       "      <td>15.042500</td>\n",
       "      <td>15.109500</td>\n",
       "      <td>15.109500</td>\n",
       "      <td>55484000</td>\n",
       "    </tr>\n",
       "    <tr>\n",
       "      <th>2015-01-06</th>\n",
       "      <td>15.112000</td>\n",
       "      <td>15.150000</td>\n",
       "      <td>14.619000</td>\n",
       "      <td>14.764500</td>\n",
       "      <td>14.764500</td>\n",
       "      <td>70380000</td>\n",
       "    </tr>\n",
       "    <tr>\n",
       "      <th>2015-01-07</th>\n",
       "      <td>14.875000</td>\n",
       "      <td>15.064000</td>\n",
       "      <td>14.766500</td>\n",
       "      <td>14.921000</td>\n",
       "      <td>14.921000</td>\n",
       "      <td>52806000</td>\n",
       "    </tr>\n",
       "    <tr>\n",
       "      <th>2015-01-08</th>\n",
       "      <td>15.016000</td>\n",
       "      <td>15.157000</td>\n",
       "      <td>14.805500</td>\n",
       "      <td>15.023000</td>\n",
       "      <td>15.023000</td>\n",
       "      <td>61768000</td>\n",
       "    </tr>\n",
       "    <tr>\n",
       "      <th>...</th>\n",
       "      <td>...</td>\n",
       "      <td>...</td>\n",
       "      <td>...</td>\n",
       "      <td>...</td>\n",
       "      <td>...</td>\n",
       "      <td>...</td>\n",
       "    </tr>\n",
       "    <tr>\n",
       "      <th>2023-09-27</th>\n",
       "      <td>125.760002</td>\n",
       "      <td>127.480003</td>\n",
       "      <td>124.129997</td>\n",
       "      <td>125.980003</td>\n",
       "      <td>125.980003</td>\n",
       "      <td>66553400</td>\n",
       "    </tr>\n",
       "    <tr>\n",
       "      <th>2023-09-28</th>\n",
       "      <td>124.040001</td>\n",
       "      <td>126.580002</td>\n",
       "      <td>123.040001</td>\n",
       "      <td>125.980003</td>\n",
       "      <td>125.980003</td>\n",
       "      <td>54555000</td>\n",
       "    </tr>\n",
       "    <tr>\n",
       "      <th>2023-09-29</th>\n",
       "      <td>128.199997</td>\n",
       "      <td>129.149994</td>\n",
       "      <td>126.320000</td>\n",
       "      <td>127.120003</td>\n",
       "      <td>127.120003</td>\n",
       "      <td>62377600</td>\n",
       "    </tr>\n",
       "    <tr>\n",
       "      <th>2023-10-02</th>\n",
       "      <td>127.279999</td>\n",
       "      <td>130.470001</td>\n",
       "      <td>126.540001</td>\n",
       "      <td>129.460007</td>\n",
       "      <td>129.460007</td>\n",
       "      <td>48029700</td>\n",
       "    </tr>\n",
       "    <tr>\n",
       "      <th>2023-10-03</th>\n",
       "      <td>128.059998</td>\n",
       "      <td>128.520004</td>\n",
       "      <td>124.250000</td>\n",
       "      <td>124.720001</td>\n",
       "      <td>124.720001</td>\n",
       "      <td>51565000</td>\n",
       "    </tr>\n",
       "  </tbody>\n",
       "</table>\n",
       "<p>2203 rows × 6 columns</p>\n",
       "</div>"
      ],
      "text/plain": [
       "                  Open        High         Low       Close   Adj Close  \\\n",
       "Date                                                                     \n",
       "2015-01-02   15.629000   15.737500   15.348000   15.426000   15.426000   \n",
       "2015-01-05   15.350500   15.419000   15.042500   15.109500   15.109500   \n",
       "2015-01-06   15.112000   15.150000   14.619000   14.764500   14.764500   \n",
       "2015-01-07   14.875000   15.064000   14.766500   14.921000   14.921000   \n",
       "2015-01-08   15.016000   15.157000   14.805500   15.023000   15.023000   \n",
       "...                ...         ...         ...         ...         ...   \n",
       "2023-09-27  125.760002  127.480003  124.129997  125.980003  125.980003   \n",
       "2023-09-28  124.040001  126.580002  123.040001  125.980003  125.980003   \n",
       "2023-09-29  128.199997  129.149994  126.320000  127.120003  127.120003   \n",
       "2023-10-02  127.279999  130.470001  126.540001  129.460007  129.460007   \n",
       "2023-10-03  128.059998  128.520004  124.250000  124.720001  124.720001   \n",
       "\n",
       "              Volume  \n",
       "Date                  \n",
       "2015-01-02  55664000  \n",
       "2015-01-05  55484000  \n",
       "2015-01-06  70380000  \n",
       "2015-01-07  52806000  \n",
       "2015-01-08  61768000  \n",
       "...              ...  \n",
       "2023-09-27  66553400  \n",
       "2023-09-28  54555000  \n",
       "2023-09-29  62377600  \n",
       "2023-10-02  48029700  \n",
       "2023-10-03  51565000  \n",
       "\n",
       "[2203 rows x 6 columns]"
      ]
     },
     "execution_count": 8,
     "metadata": {},
     "output_type": "execute_result"
    }
   ],
   "source": [
    "amzn_data_strat1"
   ]
  },
  {
   "cell_type": "markdown",
   "id": "f047ee74",
   "metadata": {},
   "source": [
    "**Compute the Correlation Matrix - <br> 1. The corr() function calculates the pairwise correlation of columns, excluding NA/null values.The correlation coefficient ranges from -1 to 1. <br>1 indicates a strong positive correlation, -1 indicates a strong negative correlation, and 0 indicates no correlation.<br> 2. Heatmaps are great for visually representing correlation matrices as it provides an easily interpretable color-coded matrix.**"
   ]
  },
  {
   "cell_type": "code",
   "execution_count": 9,
   "id": "fe08a925",
   "metadata": {},
   "outputs": [
    {
     "name": "stdout",
     "output_type": "stream",
     "text": [
      "               Open      High       Low     Close  Adj Close    Volume\n",
      "Open       1.000000  0.999737  0.999682  0.999354   0.999354 -0.049662\n",
      "High       0.999737  1.000000  0.999613  0.999696   0.999696 -0.043780\n",
      "Low        0.999682  0.999613  1.000000  0.999709   0.999709 -0.057947\n",
      "Close      0.999354  0.999696  0.999709  1.000000   1.000000 -0.050991\n",
      "Adj Close  0.999354  0.999696  0.999709  1.000000   1.000000 -0.050991\n",
      "Volume    -0.049662 -0.043780 -0.057947 -0.050991  -0.050991  1.000000\n"
     ]
    },
    {
     "data": {
      "image/png": "[encoded data removed]",
      "text/plain": [
       "<Figure size 576x360 with 2 Axes>"
      ]
     },
     "metadata": {
      "needs_background": "light"
     },
     "output_type": "display_data"
    }
   ],
   "source": [
    "correlation_matrix = amzn_data.corr()\n",
    "# Display the Correlation Matrix\n",
    "# Print the calculated correlation matrix. This gives a tabular representation of the correlations between different features.\n",
    "print(correlation_matrix)\n",
    "\n",
    "# Visualize the Correlation Matrix Using a Heatmap\n",
    "\n",
    "plt.figure(figsize=(8, 5))  # Set the figure size for the heatmap\n",
    "sns.heatmap(correlation_matrix, annot=True, cmap='RdBu', fmt=\".2f\")  # Plot the correlation heatmap with specified parameters\n",
    "plt.title(\"Correlation Matrix of AMZN Data\") # Add title\n",
    "\n",
    "# Display the heatmap\n",
    "plt.show()\n"
   ]
  },
  {
   "cell_type": "markdown",
   "id": "9e11bdbc",
   "metadata": {},
   "source": [
    "**Checking for Outliers in Each Column using IQR method -**"
   ]
  },
  {
   "cell_type": "code",
   "execution_count": 10,
   "id": "1288d45d",
   "metadata": {},
   "outputs": [
    {
     "name": "stdout",
     "output_type": "stream",
     "text": [
      "Column: Open\n",
      "No outliers found for this column.\n"
     ]
    },
    {
     "data": {
      "image/png": "[encoded data removed]",
      "text/plain": [
       "<Figure size 360x216 with 1 Axes>"
      ]
     },
     "metadata": {
      "needs_background": "light"
     },
     "output_type": "display_data"
    },
    {
     "name": "stdout",
     "output_type": "stream",
     "text": [
      "Column: High\n",
      "No outliers found for this column.\n"
     ]
    },
    {
     "data": {
      "image/png": "[encoded data removed]",
      "text/plain": [
       "<Figure size 360x216 with 1 Axes>"
      ]
     },
     "metadata": {
      "needs_background": "light"
     },
     "output_type": "display_data"
    },
    {
     "name": "stdout",
     "output_type": "stream",
     "text": [
      "Column: Low\n",
      "No outliers found for this column.\n"
     ]
    },
    {
     "data": {
      "image/png": "[encoded data removed]",
      "text/plain": [
       "<Figure size 360x216 with 1 Axes>"
      ]
     },
     "metadata": {
      "needs_background": "light"
     },
     "output_type": "display_data"
    },
    {
     "name": "stdout",
     "output_type": "stream",
     "text": [
      "Column: Close\n",
      "No outliers found for this column.\n"
     ]
    },
    {
     "data": {
      "image/png": "[encoded data removed]",
      "text/plain": [
       "<Figure size 360x216 with 1 Axes>"
      ]
     },
     "metadata": {
      "needs_background": "light"
     },
     "output_type": "display_data"
    },
    {
     "name": "stdout",
     "output_type": "stream",
     "text": [
      "Column: Adj Close\n",
      "No outliers found for this column.\n"
     ]
    },
    {
     "data": {
      "image/png": "[encoded data removed]",
      "text/plain": [
       "<Figure size 360x216 with 1 Axes>"
      ]
     },
     "metadata": {
      "needs_background": "light"
     },
     "output_type": "display_data"
    },
    {
     "name": "stdout",
     "output_type": "stream",
     "text": [
      "Column: Volume\n",
      "Outliers:\n",
      "               Volume\n",
      "Date                 \n",
      "2015-01-21  201302000\n",
      "2015-01-29  173132000\n",
      "2015-01-30  477122000\n",
      "2015-02-02  204638000\n",
      "2015-04-23  159600000\n",
      "...               ...\n",
      "2022-02-04  253456000\n",
      "2022-04-29  272662000\n",
      "2022-10-28  223133400\n",
      "2022-11-10  173414900\n",
      "2023-02-02  158154200\n",
      "\n",
      "[114 rows x 1 columns]\n"
     ]
    },
    {
     "data": {
      "image/png": "[encoded data removed]",
      "text/plain": [
       "<Figure size 360x216 with 1 Axes>"
      ]
     },
     "metadata": {
      "needs_background": "light"
     },
     "output_type": "display_data"
    }
   ],
   "source": [
    "# Iterating over each column in the DataFrame\n",
    "for col in amzn_data.columns:\n",
    "    # Checking if the column is numerical since boxplots and IQR method are applicable to numerical data\n",
    "    if amzn_data[col].dtype in ['int64', 'float64']:\n",
    "        \n",
    "        # Calculating the first (Q1) and third (Q3) quartiles and the Interquartile Range (IQR)\n",
    "        Q1 = amzn_data[col].quantile(0.25)\n",
    "        Q3 = amzn_data[col].quantile(0.75)\n",
    "        IQR = Q3 - Q1\n",
    "\n",
    "        # Defining bounds for the outliers based on the IQR method\n",
    "        lower_bound = Q1 - 1.5 * IQR\n",
    "        upper_bound = Q3 + 1.5 * IQR\n",
    "        \n",
    "        # Identifying the outliers in the column, which are the values lying outside the defined bounds\n",
    "        outliers = amzn_data[(amzn_data[col] < lower_bound) | (amzn_data[col] > upper_bound)]\n",
    "        \n",
    "        # Printing information about the column, whether or not there are outliers\n",
    "        print(f\"Column: {col}\")\n",
    "        if not outliers.empty:\n",
    "            print(\"Outliers:\")\n",
    "            print(outliers[[col]])\n",
    "        else:\n",
    "            print(\"No outliers found for this column.\")\n",
    "        \n",
    "        # Creating a new figure for the boxplot\n",
    "        plt.figure(figsize=(5, 3))\n",
    "        # Plotting a boxplot for the current numerical column\n",
    "        sns.boxplot(x=amzn_data[col])\n",
    "\n",
    "        # Setting the title for the boxplot\n",
    "        plt.title(f'Boxplot of {col}')\n",
    "        # Displaying the boxplot\n",
    "        plt.show()\n"
   ]
  },
  {
   "cell_type": "markdown",
   "id": "2c53d957",
   "metadata": {},
   "source": [
    "**Analysis 1: Total volumes of shares traded yearwise<br><br> This analysis aims to aggregate and understand the yearly trading activity of Amazon shares. By extracting the total trading volumes year-wise, stakeholders can identify trends, variations, or anomalies in trading volume over the years, indicating market interest, investor sentiment, or the company's overall performance and events during those periods.**"
   ]
  },
  {
   "cell_type": "code",
   "execution_count": 11,
   "id": "887a7cdb",
   "metadata": {},
   "outputs": [],
   "source": [
    "# The index of the DataFrame 'amzn_data' is converted to a DateTime object.\n",
    "amzn_data.index = pd.to_datetime(amzn_data.index)\n",
    "\n",
    "# After converting the index to DateTime, we can extract the year from each date and store it in a new column named 'Year'.\n",
    "# This can be useful for later analysis where data needs to be grouped or analyzed based on the year.\n",
    "amzn_data['Year'] = amzn_data.index.year"
   ]
  },
  {
   "cell_type": "code",
   "execution_count": 12,
   "id": "31c9de1c",
   "metadata": {},
   "outputs": [
    {
     "name": "stdout",
     "output_type": "stream",
     "text": [
      "   Year       Volume\n",
      "0  2015  19142040000\n",
      "1  2016  20775126000\n",
      "2  2017  17654108000\n",
      "3  2018  28357952000\n",
      "4  2019  19493002000\n",
      "5  2020  24950814000\n",
      "6  2021  17076362000\n",
      "7  2022  19096256300\n",
      "8  2023  11625812500\n"
     ]
    }
   ],
   "source": [
    "# Here we are grouping the data in 'amzn_data' by 'Year' and then calculating the sum of 'Volume' for each year.\n",
    "# This provides the total volume of Amazon shares traded on the stock market for each year.\n",
    "maxshares = amzn_data.groupby('Year')['Volume'].sum().reset_index()\n",
    "\n",
    "# Displaying the Result\n",
    "print(maxshares)"
   ]
  },
  {
   "cell_type": "markdown",
   "id": "9e384517",
   "metadata": {},
   "source": [
    "**Visualizing Total Volumes of Shares Traded Year-wise Using a Pie Chart**"
   ]
  },
  {
   "cell_type": "code",
   "execution_count": 13,
   "id": "576ada24",
   "metadata": {},
   "outputs": [
    {
     "data": {
      "image/png": "[encoded data removed]",
      "text/plain": [
       "<Figure size 720x432 with 1 Axes>"
      ]
     },
     "metadata": {},
     "output_type": "display_data"
    }
   ],
   "source": [
    "sizes = maxshares['Volume']\n",
    "labels = maxshares['Year'].astype(str)\n",
    "colors = plt.cm.Paired(range(len(sizes)))\n",
    "plt.figure(figsize=(10,6))\n",
    "plt.pie(sizes, labels=labels, autopct='%1.1f%%', startangle=140, colors=colors)\n",
    "plt.axis('equal')\n",
    "\n",
    "# Set Title for the Pie Chart\n",
    "plt.title('Yearly shares of total volumes traded')\n",
    "\n",
    "# Display Pie Chart\n",
    "plt.show()\n"
   ]
  },
  {
   "cell_type": "markdown",
   "id": "e92b7765",
   "metadata": {},
   "source": [
    "**Analysis 2: Amazon's yearly stock performance <br><br> This is to visually represent Amazon's quarterly adjusted closing stock prices across multiple years. The design facilitates easy year-over-year comparison, aiding in identifying trends or patterns in Amazon's stock performance.**"
   ]
  },
  {
   "cell_type": "code",
   "execution_count": 14,
   "id": "3bfabea2",
   "metadata": {},
   "outputs": [
    {
     "data": {
      "image/png": "[encoded data removed]",
      "text/plain": [
       "<Figure size 1440x720 with 1 Axes>"
      ]
     },
     "metadata": {
      "needs_background": "light"
     },
     "output_type": "display_data"
    }
   ],
   "source": [
    "def plot_quarterly_bar_chart(data, column='Adj Close'):\n",
    "    \"\"\"\n",
    "    Function to plot separate bar charts for each year's quarterly data in one frame.\n",
    "    \"\"\"\n",
    "    data_copy = data.copy()  # Make a deep copy to avoid modifying the original data\n",
    "\n",
    "    if data_copy.empty or column not in data_copy.columns:\n",
    "        print(\"Invalid DataFrame or column name\")\n",
    "        return\n",
    "    \n",
    "    # Extract Year and Quarter information\n",
    "    data_copy['Year'] = data_copy.index.year\n",
    "    data_copy['Quarter'] = data_copy.index.to_period(\"Q\")\n",
    "    \n",
    "    # Group by Year and Quarter, and select the last value of the specified column\n",
    "    quarterly_data = data_copy.groupby(['Year', 'Quarter'])[column].last().reset_index()\n",
    "\n",
    "    # Get unique years\n",
    "    years = quarterly_data['Year'].unique()\n",
    "\n",
    "    # Set colors for each quarter\n",
    "    colors = ['#1f77b4', '#ff7f0e', '#2ca02c', '#d62728']\n",
    "\n",
    "    # Create x ticks and labels\n",
    "    x_ticks = []\n",
    "    x_labels = []\n",
    "\n",
    "    plt.figure(figsize=(20, 10))\n",
    "\n",
    "    # Plot bar chart for each year\n",
    "    for i, year in enumerate(years):\n",
    "        year_data = quarterly_data[quarterly_data['Year'] == year]\n",
    "        x_pos = np.arange(len(year_data)) + i * (len(year_data) + 2)\n",
    "        x_ticks.extend(x_pos)\n",
    "        x_labels.extend([f\"Q{idx+1}_{year}\" for idx in range(len(year_data))])\n",
    "        \n",
    "        bars = plt.bar(x_pos, year_data[column], color=colors, label=f'{year}')\n",
    "        \n",
    "        for bar, value in zip(bars, year_data[column]):\n",
    "            height = bar.get_height()\n",
    "            plt.text(bar.get_x() + bar.get_width() / 2, height + 0.02 * max(quarterly_data[column]), \n",
    "                     str(round(value, 2)), ha='center', va='bottom', fontsize=12)\n",
    "\n",
    "    plt.xticks(x_ticks, x_labels, rotation=45, fontsize=16)\n",
    "    plt.yticks(fontsize=18)\n",
    "    plt.title(f'Amazon {column} Prices - Quarterly', fontsize=20)\n",
    "    plt.ylabel(f'{column} Price (USD)', fontsize=18)\n",
    "    plt.xlabel('Quarter_Year', fontsize=18)\n",
    "    plt.legend(fontsize=18)\n",
    "\n",
    "    plt.tight_layout()\n",
    "    plt.show()\n",
    "\n",
    "# Calling the function\n",
    "plot_quarterly_bar_chart(amzn_data)\n",
    "\n",
    "\n"
   ]
  },
  {
   "cell_type": "code",
   "execution_count": 15,
   "id": "8eab0697",
   "metadata": {},
   "outputs": [
    {
     "data": {
      "text/html": [
       "<div>\n",
       "<style scoped>\n",
       "    .dataframe tbody tr th:only-of-type {\n",
       "        vertical-align: middle;\n",
       "    }\n",
       "\n",
       "    .dataframe tbody tr th {\n",
       "        vertical-align: top;\n",
       "    }\n",
       "\n",
       "    .dataframe thead th {\n",
       "        text-align: right;\n",
       "    }\n",
       "</style>\n",
       "<table border=\"1\" class=\"dataframe\">\n",
       "  <thead>\n",
       "    <tr style=\"text-align: right;\">\n",
       "      <th></th>\n",
       "      <th>Open</th>\n",
       "      <th>High</th>\n",
       "      <th>Low</th>\n",
       "      <th>Close</th>\n",
       "      <th>Adj Close</th>\n",
       "      <th>Volume</th>\n",
       "    </tr>\n",
       "    <tr>\n",
       "      <th>Date</th>\n",
       "      <th></th>\n",
       "      <th></th>\n",
       "      <th></th>\n",
       "      <th></th>\n",
       "      <th></th>\n",
       "      <th></th>\n",
       "    </tr>\n",
       "  </thead>\n",
       "  <tbody>\n",
       "    <tr>\n",
       "      <th>2015-01-02</th>\n",
       "      <td>15.629000</td>\n",
       "      <td>15.737500</td>\n",
       "      <td>15.348000</td>\n",
       "      <td>15.426000</td>\n",
       "      <td>15.426000</td>\n",
       "      <td>55664000</td>\n",
       "    </tr>\n",
       "    <tr>\n",
       "      <th>2015-01-05</th>\n",
       "      <td>15.350500</td>\n",
       "      <td>15.419000</td>\n",
       "      <td>15.042500</td>\n",
       "      <td>15.109500</td>\n",
       "      <td>15.109500</td>\n",
       "      <td>55484000</td>\n",
       "    </tr>\n",
       "    <tr>\n",
       "      <th>2015-01-06</th>\n",
       "      <td>15.112000</td>\n",
       "      <td>15.150000</td>\n",
       "      <td>14.619000</td>\n",
       "      <td>14.764500</td>\n",
       "      <td>14.764500</td>\n",
       "      <td>70380000</td>\n",
       "    </tr>\n",
       "    <tr>\n",
       "      <th>2015-01-07</th>\n",
       "      <td>14.875000</td>\n",
       "      <td>15.064000</td>\n",
       "      <td>14.766500</td>\n",
       "      <td>14.921000</td>\n",
       "      <td>14.921000</td>\n",
       "      <td>52806000</td>\n",
       "    </tr>\n",
       "    <tr>\n",
       "      <th>2015-01-08</th>\n",
       "      <td>15.016000</td>\n",
       "      <td>15.157000</td>\n",
       "      <td>14.805500</td>\n",
       "      <td>15.023000</td>\n",
       "      <td>15.023000</td>\n",
       "      <td>61768000</td>\n",
       "    </tr>\n",
       "    <tr>\n",
       "      <th>...</th>\n",
       "      <td>...</td>\n",
       "      <td>...</td>\n",
       "      <td>...</td>\n",
       "      <td>...</td>\n",
       "      <td>...</td>\n",
       "      <td>...</td>\n",
       "    </tr>\n",
       "    <tr>\n",
       "      <th>2023-09-27</th>\n",
       "      <td>125.760002</td>\n",
       "      <td>127.480003</td>\n",
       "      <td>124.129997</td>\n",
       "      <td>125.980003</td>\n",
       "      <td>125.980003</td>\n",
       "      <td>66553400</td>\n",
       "    </tr>\n",
       "    <tr>\n",
       "      <th>2023-09-28</th>\n",
       "      <td>124.040001</td>\n",
       "      <td>126.580002</td>\n",
       "      <td>123.040001</td>\n",
       "      <td>125.980003</td>\n",
       "      <td>125.980003</td>\n",
       "      <td>54555000</td>\n",
       "    </tr>\n",
       "    <tr>\n",
       "      <th>2023-09-29</th>\n",
       "      <td>128.199997</td>\n",
       "      <td>129.149994</td>\n",
       "      <td>126.320000</td>\n",
       "      <td>127.120003</td>\n",
       "      <td>127.120003</td>\n",
       "      <td>62377600</td>\n",
       "    </tr>\n",
       "    <tr>\n",
       "      <th>2023-10-02</th>\n",
       "      <td>127.279999</td>\n",
       "      <td>130.470001</td>\n",
       "      <td>126.540001</td>\n",
       "      <td>129.460007</td>\n",
       "      <td>129.460007</td>\n",
       "      <td>48029700</td>\n",
       "    </tr>\n",
       "    <tr>\n",
       "      <th>2023-10-03</th>\n",
       "      <td>128.059998</td>\n",
       "      <td>128.520004</td>\n",
       "      <td>124.250000</td>\n",
       "      <td>124.720001</td>\n",
       "      <td>124.720001</td>\n",
       "      <td>51565000</td>\n",
       "    </tr>\n",
       "  </tbody>\n",
       "</table>\n",
       "<p>2203 rows × 6 columns</p>\n",
       "</div>"
      ],
      "text/plain": [
       "                  Open        High         Low       Close   Adj Close  \\\n",
       "Date                                                                     \n",
       "2015-01-02   15.629000   15.737500   15.348000   15.426000   15.426000   \n",
       "2015-01-05   15.350500   15.419000   15.042500   15.109500   15.109500   \n",
       "2015-01-06   15.112000   15.150000   14.619000   14.764500   14.764500   \n",
       "2015-01-07   14.875000   15.064000   14.766500   14.921000   14.921000   \n",
       "2015-01-08   15.016000   15.157000   14.805500   15.023000   15.023000   \n",
       "...                ...         ...         ...         ...         ...   \n",
       "2023-09-27  125.760002  127.480003  124.129997  125.980003  125.980003   \n",
       "2023-09-28  124.040001  126.580002  123.040001  125.980003  125.980003   \n",
       "2023-09-29  128.199997  129.149994  126.320000  127.120003  127.120003   \n",
       "2023-10-02  127.279999  130.470001  126.540001  129.460007  129.460007   \n",
       "2023-10-03  128.059998  128.520004  124.250000  124.720001  124.720001   \n",
       "\n",
       "              Volume  \n",
       "Date                  \n",
       "2015-01-02  55664000  \n",
       "2015-01-05  55484000  \n",
       "2015-01-06  70380000  \n",
       "2015-01-07  52806000  \n",
       "2015-01-08  61768000  \n",
       "...              ...  \n",
       "2023-09-27  66553400  \n",
       "2023-09-28  54555000  \n",
       "2023-09-29  62377600  \n",
       "2023-10-02  48029700  \n",
       "2023-10-03  51565000  \n",
       "\n",
       "[2203 rows x 6 columns]"
      ]
     },
     "execution_count": 15,
     "metadata": {},
     "output_type": "execute_result"
    }
   ],
   "source": [
    "amzn_data_strat1"
   ]
  },
  {
   "cell_type": "markdown",
   "id": "959f7681",
   "metadata": {},
   "source": [
    "# STRATEGY 1: Predicting next day's price movements"
   ]
  },
  {
   "cell_type": "markdown",
   "id": "8057614e",
   "metadata": {},
   "source": [
    "**To determine the buy or sell signal for a given trading day, we look at the closing price of the next trading day:<br>\n",
    "Buy Signal: If the next trading day's close price is greater than today's close price.<br>\n",
    "Sell Signal: If the next trading day's close price is less than or equal to today's close price**"
   ]
  },
  {
   "cell_type": "code",
   "execution_count": 16,
   "id": "949416a9",
   "metadata": {},
   "outputs": [
    {
     "data": {
      "text/html": [
       "<div>\n",
       "<style scoped>\n",
       "    .dataframe tbody tr th:only-of-type {\n",
       "        vertical-align: middle;\n",
       "    }\n",
       "\n",
       "    .dataframe tbody tr th {\n",
       "        vertical-align: top;\n",
       "    }\n",
       "\n",
       "    .dataframe thead th {\n",
       "        text-align: right;\n",
       "    }\n",
       "</style>\n",
       "<table border=\"1\" class=\"dataframe\">\n",
       "  <thead>\n",
       "    <tr style=\"text-align: right;\">\n",
       "      <th></th>\n",
       "      <th>Open</th>\n",
       "      <th>High</th>\n",
       "      <th>Low</th>\n",
       "      <th>Close</th>\n",
       "      <th>Adj Close</th>\n",
       "      <th>Volume</th>\n",
       "      <th>signal</th>\n",
       "    </tr>\n",
       "    <tr>\n",
       "      <th>Date</th>\n",
       "      <th></th>\n",
       "      <th></th>\n",
       "      <th></th>\n",
       "      <th></th>\n",
       "      <th></th>\n",
       "      <th></th>\n",
       "      <th></th>\n",
       "    </tr>\n",
       "  </thead>\n",
       "  <tbody>\n",
       "    <tr>\n",
       "      <th>2015-01-02</th>\n",
       "      <td>15.629000</td>\n",
       "      <td>15.737500</td>\n",
       "      <td>15.348000</td>\n",
       "      <td>15.426000</td>\n",
       "      <td>15.426000</td>\n",
       "      <td>55664000</td>\n",
       "      <td>-1</td>\n",
       "    </tr>\n",
       "    <tr>\n",
       "      <th>2015-01-05</th>\n",
       "      <td>15.350500</td>\n",
       "      <td>15.419000</td>\n",
       "      <td>15.042500</td>\n",
       "      <td>15.109500</td>\n",
       "      <td>15.109500</td>\n",
       "      <td>55484000</td>\n",
       "      <td>-1</td>\n",
       "    </tr>\n",
       "    <tr>\n",
       "      <th>2015-01-06</th>\n",
       "      <td>15.112000</td>\n",
       "      <td>15.150000</td>\n",
       "      <td>14.619000</td>\n",
       "      <td>14.764500</td>\n",
       "      <td>14.764500</td>\n",
       "      <td>70380000</td>\n",
       "      <td>1</td>\n",
       "    </tr>\n",
       "    <tr>\n",
       "      <th>2015-01-07</th>\n",
       "      <td>14.875000</td>\n",
       "      <td>15.064000</td>\n",
       "      <td>14.766500</td>\n",
       "      <td>14.921000</td>\n",
       "      <td>14.921000</td>\n",
       "      <td>52806000</td>\n",
       "      <td>1</td>\n",
       "    </tr>\n",
       "    <tr>\n",
       "      <th>2015-01-08</th>\n",
       "      <td>15.016000</td>\n",
       "      <td>15.157000</td>\n",
       "      <td>14.805500</td>\n",
       "      <td>15.023000</td>\n",
       "      <td>15.023000</td>\n",
       "      <td>61768000</td>\n",
       "      <td>-1</td>\n",
       "    </tr>\n",
       "    <tr>\n",
       "      <th>...</th>\n",
       "      <td>...</td>\n",
       "      <td>...</td>\n",
       "      <td>...</td>\n",
       "      <td>...</td>\n",
       "      <td>...</td>\n",
       "      <td>...</td>\n",
       "      <td>...</td>\n",
       "    </tr>\n",
       "    <tr>\n",
       "      <th>2023-09-27</th>\n",
       "      <td>125.760002</td>\n",
       "      <td>127.480003</td>\n",
       "      <td>124.129997</td>\n",
       "      <td>125.980003</td>\n",
       "      <td>125.980003</td>\n",
       "      <td>66553400</td>\n",
       "      <td>-1</td>\n",
       "    </tr>\n",
       "    <tr>\n",
       "      <th>2023-09-28</th>\n",
       "      <td>124.040001</td>\n",
       "      <td>126.580002</td>\n",
       "      <td>123.040001</td>\n",
       "      <td>125.980003</td>\n",
       "      <td>125.980003</td>\n",
       "      <td>54555000</td>\n",
       "      <td>1</td>\n",
       "    </tr>\n",
       "    <tr>\n",
       "      <th>2023-09-29</th>\n",
       "      <td>128.199997</td>\n",
       "      <td>129.149994</td>\n",
       "      <td>126.320000</td>\n",
       "      <td>127.120003</td>\n",
       "      <td>127.120003</td>\n",
       "      <td>62377600</td>\n",
       "      <td>1</td>\n",
       "    </tr>\n",
       "    <tr>\n",
       "      <th>2023-10-02</th>\n",
       "      <td>127.279999</td>\n",
       "      <td>130.470001</td>\n",
       "      <td>126.540001</td>\n",
       "      <td>129.460007</td>\n",
       "      <td>129.460007</td>\n",
       "      <td>48029700</td>\n",
       "      <td>-1</td>\n",
       "    </tr>\n",
       "    <tr>\n",
       "      <th>2023-10-03</th>\n",
       "      <td>128.059998</td>\n",
       "      <td>128.520004</td>\n",
       "      <td>124.250000</td>\n",
       "      <td>124.720001</td>\n",
       "      <td>124.720001</td>\n",
       "      <td>51565000</td>\n",
       "      <td>-1</td>\n",
       "    </tr>\n",
       "  </tbody>\n",
       "</table>\n",
       "<p>2203 rows × 7 columns</p>\n",
       "</div>"
      ],
      "text/plain": [
       "                  Open        High         Low       Close   Adj Close  \\\n",
       "Date                                                                     \n",
       "2015-01-02   15.629000   15.737500   15.348000   15.426000   15.426000   \n",
       "2015-01-05   15.350500   15.419000   15.042500   15.109500   15.109500   \n",
       "2015-01-06   15.112000   15.150000   14.619000   14.764500   14.764500   \n",
       "2015-01-07   14.875000   15.064000   14.766500   14.921000   14.921000   \n",
       "2015-01-08   15.016000   15.157000   14.805500   15.023000   15.023000   \n",
       "...                ...         ...         ...         ...         ...   \n",
       "2023-09-27  125.760002  127.480003  124.129997  125.980003  125.980003   \n",
       "2023-09-28  124.040001  126.580002  123.040001  125.980003  125.980003   \n",
       "2023-09-29  128.199997  129.149994  126.320000  127.120003  127.120003   \n",
       "2023-10-02  127.279999  130.470001  126.540001  129.460007  129.460007   \n",
       "2023-10-03  128.059998  128.520004  124.250000  124.720001  124.720001   \n",
       "\n",
       "              Volume  signal  \n",
       "Date                          \n",
       "2015-01-02  55664000      -1  \n",
       "2015-01-05  55484000      -1  \n",
       "2015-01-06  70380000       1  \n",
       "2015-01-07  52806000       1  \n",
       "2015-01-08  61768000      -1  \n",
       "...              ...     ...  \n",
       "2023-09-27  66553400      -1  \n",
       "2023-09-28  54555000       1  \n",
       "2023-09-29  62377600       1  \n",
       "2023-10-02  48029700      -1  \n",
       "2023-10-03  51565000      -1  \n",
       "\n",
       "[2203 rows x 7 columns]"
      ]
     },
     "execution_count": 16,
     "metadata": {},
     "output_type": "execute_result"
    }
   ],
   "source": [
    "# If tomorrow's close price is greater than today's close price then 'buy' else 'sell'\n",
    "# -1 represents 'sell signal', whereas 1 represents 'buy signal'\n",
    "\n",
    "amzn_data_strat1['signal'] = np.where(amzn_data_strat1['Close'].shift(-1) > amzn_data_strat1['Close'], 1, -1)\n",
    "amzn_data_strat1"
   ]
  },
  {
   "cell_type": "markdown",
   "id": "e878344c",
   "metadata": {},
   "source": [
    "**Checking for Nan values in amzn_data_strat1**"
   ]
  },
  {
   "cell_type": "code",
   "execution_count": 17,
   "id": "77e23ceb",
   "metadata": {},
   "outputs": [
    {
     "data": {
      "text/plain": [
       "0"
      ]
     },
     "execution_count": 17,
     "metadata": {},
     "output_type": "execute_result"
    }
   ],
   "source": [
    "amzn_data_strat1['signal'].isna().sum()"
   ]
  },
  {
   "cell_type": "markdown",
   "id": "291700d2",
   "metadata": {},
   "source": [
    "**Compute the Correlation Matrix - <br> 1. The corr() function calculates the pairwise correlation of columns, excluding NA/null values.The correlation coefficient ranges from -1 to 1. <br>1 indicates a strong positive correlation, -1 indicates a strong negative correlation, and 0 indicates no correlation.<br> 2. Heatmaps are great for visually representing correlation matrices as it provides an easily interpretable color-coded matrix.**"
   ]
  },
  {
   "cell_type": "code",
   "execution_count": 18,
   "id": "fbed44b8",
   "metadata": {},
   "outputs": [
    {
     "name": "stdout",
     "output_type": "stream",
     "text": [
      "               Open      High       Low     Close  Adj Close    Volume  \\\n",
      "Open       1.000000  0.999737  0.999682  0.999354   0.999354 -0.049662   \n",
      "High       0.999737  1.000000  0.999613  0.999696   0.999696 -0.043780   \n",
      "Low        0.999682  0.999613  1.000000  0.999709   0.999709 -0.057947   \n",
      "Close      0.999354  0.999696  0.999709  1.000000   1.000000 -0.050991   \n",
      "Adj Close  0.999354  0.999696  0.999709  1.000000   1.000000 -0.050991   \n",
      "Volume    -0.049662 -0.043780 -0.057947 -0.050991  -0.050991  1.000000   \n",
      "signal    -0.042996 -0.042250 -0.042002 -0.042153  -0.042153  0.001775   \n",
      "\n",
      "             signal  \n",
      "Open      -0.042996  \n",
      "High      -0.042250  \n",
      "Low       -0.042002  \n",
      "Close     -0.042153  \n",
      "Adj Close -0.042153  \n",
      "Volume     0.001775  \n",
      "signal     1.000000  \n"
     ]
    },
    {
     "data": {
      "image/png": "[encoded data removed]",
      "text/plain": [
       "<Figure size 576x360 with 2 Axes>"
      ]
     },
     "metadata": {
      "needs_background": "light"
     },
     "output_type": "display_data"
    },
    {
     "name": "stdout",
     "output_type": "stream",
     "text": [
      "Open        -0.042996\n",
      "High        -0.042250\n",
      "Low         -0.042002\n",
      "Close       -0.042153\n",
      "Adj Close   -0.042153\n",
      "Volume       0.001775\n",
      "signal       1.000000\n",
      "Name: signal, dtype: float64\n"
     ]
    }
   ],
   "source": [
    "correlation_matrix = amzn_data_strat1.corr()\n",
    "# Display the Correlation Matrix\n",
    "print(correlation_matrix)\n",
    "\n",
    "# Visualize the Correlation Matrix Using a Heatmap\n",
    "\n",
    "plt.figure(figsize=(8, 5))  # Set the figure size for the heatmap\n",
    "sns.heatmap(correlation_matrix, annot=True, cmap='RdBu', fmt=\".2f\")  # Plot the correlation heatmap with specified parameters\n",
    "plt.title(\"Correlation Matrix of Amzn_Data_strat1 with respect to 'signal'\") # Add title\n",
    "\n",
    "# Display the heatmap\n",
    "plt.show()\n",
    "\n",
    "# Extract the 'signal' column from the correlation matrix\n",
    "signal_correlation = correlation_matrix['signal']\n",
    "\n",
    "# Print the correlations of each column with respect to 'signal'\n",
    "print(signal_correlation)\n",
    "\n"
   ]
  },
  {
   "cell_type": "markdown",
   "id": "ac9bdf5e",
   "metadata": {},
   "source": [
    "**Feature Engineering & defining features:**"
   ]
  },
  {
   "cell_type": "code",
   "execution_count": 19,
   "id": "bae1e14b",
   "metadata": {},
   "outputs": [],
   "source": [
    "# Defining feature variable 'X' and target variable 'Y'\n",
    "X = amzn_data_strat1.drop(columns=['signal']).copy()\n",
    "Y = amzn_data_strat1['signal']"
   ]
  },
  {
   "cell_type": "markdown",
   "id": "6945adc2",
   "metadata": {},
   "source": [
    "**Splitting the strategy 1 data into training and test datasets:**"
   ]
  },
  {
   "cell_type": "code",
   "execution_count": 20,
   "id": "9a4fd06b",
   "metadata": {},
   "outputs": [],
   "source": [
    "# Split the data into training and test sets with an 80/20 ratio\n",
    "X_train, X_test, Y_train, Y_test = train_test_split(X, Y, test_size=0.20, random_state=42)"
   ]
  },
  {
   "cell_type": "markdown",
   "id": "54b2bfa0",
   "metadata": {},
   "source": [
    "### Implementing Machine Learning algorithms: "
   ]
  },
  {
   "cell_type": "markdown",
   "id": "163af693",
   "metadata": {},
   "source": [
    "**The Classifiers that are to be used during this process are as follows: <br>\n",
    "    1. KNN Classifier <br>\n",
    "    2. Random Forest Classifier <br>\n",
    "    3. Gradient Boosting Classifier <br>\n",
    "    4. Support Vector Machine (SVM) Classifier <br>\n",
    "    5. XGBoost Classifier**"
   ]
  },
  {
   "cell_type": "markdown",
   "id": "8fba9be7",
   "metadata": {},
   "source": [
    "**1. Applying the KNN classifier and fitting it on the training dataset (using its default parameters):**"
   ]
  },
  {
   "cell_type": "code",
   "execution_count": 21,
   "id": "39f95abe",
   "metadata": {},
   "outputs": [
    {
     "name": "stdout",
     "output_type": "stream",
     "text": [
      "KNN Classifier Accuracy: 54.20%\n",
      "Confusion Matrix:\n",
      "[[ 98 112]\n",
      " [ 90 141]]\n",
      "Classification Report:\n",
      "              precision    recall  f1-score   support\n",
      "\n",
      "          -1       0.52      0.47      0.49       210\n",
      "           1       0.56      0.61      0.58       231\n",
      "\n",
      "    accuracy                           0.54       441\n",
      "   macro avg       0.54      0.54      0.54       441\n",
      "weighted avg       0.54      0.54      0.54       441\n",
      "\n"
     ]
    }
   ],
   "source": [
    "# Model Training\n",
    "# Create an instance of the classifier with n_jobs=1\n",
    "knn_clf = KNeighborsClassifier(n_jobs=1)\n",
    "\n",
    "# Fit the classifier on the training dataset\n",
    "knn_clf.fit(X_train, Y_train.ravel())  # Use ravel() to convert Y_train to 1D array\n",
    "\n",
    "# Make predictions on the test set\n",
    "Y_pred = knn_clf.predict(X_test)\n",
    "\n",
    "# Calculate the accuracy of the model\n",
    "accuracy = accuracy_score(Y_test, Y_pred)\n",
    "print(f'KNN Classifier Accuracy: {accuracy * 100:.2f}%')\n",
    "\n",
    "conf_matrix = confusion_matrix(Y_test, Y_pred)\n",
    "print(\"Confusion Matrix:\")\n",
    "print(conf_matrix)\n",
    "\n",
    "print(\"Classification Report:\")\n",
    "print(classification_report(Y_test, Y_pred))"
   ]
  },
  {
   "cell_type": "markdown",
   "id": "fdcd9a04",
   "metadata": {},
   "source": [
    "**2. Applying the Random Forest classifier and fitting on training dataset (using its default parameters):**"
   ]
  },
  {
   "cell_type": "code",
   "execution_count": 22,
   "id": "84827742",
   "metadata": {},
   "outputs": [
    {
     "name": "stdout",
     "output_type": "stream",
     "text": [
      "Random Forest Model Accuracy: 51.70%\n",
      "Confusion Matrix:\n",
      "[[ 98 112]\n",
      " [ 90 141]]\n",
      "Classification Report:\n",
      "              precision    recall  f1-score   support\n",
      "\n",
      "          -1       0.52      0.47      0.49       210\n",
      "           1       0.56      0.61      0.58       231\n",
      "\n",
      "    accuracy                           0.54       441\n",
      "   macro avg       0.54      0.54      0.54       441\n",
      "weighted avg       0.54      0.54      0.54       441\n",
      "\n"
     ]
    }
   ],
   "source": [
    "# Initialize the Random Forest Classifier with default parameters\n",
    "rf_clf = RandomForestClassifier(random_state=42)\n",
    "\n",
    "# Fit the classifier on the training dataset\n",
    "rf_clf.fit(X_train, Y_train.ravel())  # Use ravel() to convert Y_train to 1D array if it's 2D\n",
    "\n",
    "# Make predictions on the test set\n",
    "Y_pred_rf = rf_clf.predict(X_test)\n",
    "\n",
    "# Calculate the accuracy of the model\n",
    "accuracy_rf = accuracy_score(Y_test, Y_pred_rf)\n",
    "print(f'Random Forest Model Accuracy: {accuracy_rf * 100:.2f}%')\n",
    "\n",
    "conf_matrix = confusion_matrix(Y_test, Y_pred)\n",
    "print(\"Confusion Matrix:\")\n",
    "print(conf_matrix)\n",
    "\n",
    "print(\"Classification Report:\")\n",
    "print(classification_report(Y_test, Y_pred))\n"
   ]
  },
  {
   "cell_type": "markdown",
   "id": "26d05d9d",
   "metadata": {},
   "source": [
    "**3. Applying Gradient Boosting classifier and fitting on training dataset (using its default parameters):**"
   ]
  },
  {
   "cell_type": "code",
   "execution_count": 23,
   "id": "bbe907c9",
   "metadata": {},
   "outputs": [
    {
     "name": "stdout",
     "output_type": "stream",
     "text": [
      "Gradient Boosting Model Accuracy: 50.79%\n",
      "Confusion Matrix:\n",
      "[[ 98 112]\n",
      " [ 90 141]]\n",
      "Classification Report:\n",
      "              precision    recall  f1-score   support\n",
      "\n",
      "          -1       0.52      0.47      0.49       210\n",
      "           1       0.56      0.61      0.58       231\n",
      "\n",
      "    accuracy                           0.54       441\n",
      "   macro avg       0.54      0.54      0.54       441\n",
      "weighted avg       0.54      0.54      0.54       441\n",
      "\n"
     ]
    }
   ],
   "source": [
    "# Initialize the Gradient Boosting Classifier with default parameters\n",
    "gb_clf = GradientBoostingClassifier(random_state=42)\n",
    "\n",
    "# Fit the classifier on the training dataset\n",
    "gb_clf.fit(X_train, Y_train.ravel())  # Use ravel() to convert Y_train to 1D array if it's 2D\n",
    "\n",
    "# Make predictions on the test set\n",
    "Y_pred_gb = gb_clf.predict(X_test)\n",
    "\n",
    "# Calculate the accuracy of the model\n",
    "accuracy_gb = accuracy_score(Y_test, Y_pred_gb)\n",
    "print(f'Gradient Boosting Model Accuracy: {accuracy_gb * 100:.2f}%')\n",
    "\n",
    "conf_matrix = confusion_matrix(Y_test, Y_pred)\n",
    "print(\"Confusion Matrix:\")\n",
    "print(conf_matrix)\n",
    "\n",
    "print(\"Classification Report:\")\n",
    "print(classification_report(Y_test, Y_pred))\n"
   ]
  },
  {
   "cell_type": "markdown",
   "id": "6011b1e5",
   "metadata": {},
   "source": [
    "**4. Applying Support Vector Machine (SVM) classifier and fitting on training dataset (using its default parameters):**"
   ]
  },
  {
   "cell_type": "code",
   "execution_count": 24,
   "id": "8f148986",
   "metadata": {},
   "outputs": [
    {
     "name": "stdout",
     "output_type": "stream",
     "text": [
      "SVM Model Accuracy: 51.93%\n",
      "Confusion Matrix:\n",
      "[[ 98 112]\n",
      " [ 90 141]]\n",
      "Classification Report:\n",
      "              precision    recall  f1-score   support\n",
      "\n",
      "          -1       0.52      0.47      0.49       210\n",
      "           1       0.56      0.61      0.58       231\n",
      "\n",
      "    accuracy                           0.54       441\n",
      "   macro avg       0.54      0.54      0.54       441\n",
      "weighted avg       0.54      0.54      0.54       441\n",
      "\n"
     ]
    }
   ],
   "source": [
    "# Initialize the SVM Classifier with default parameters\n",
    "svm_clf = SVC(random_state=42)\n",
    "\n",
    "# Fit the classifier on the training dataset\n",
    "svm_clf.fit(X_train, Y_train.ravel())  # Use ravel() to convert Y_train to 1D array if it's 2D\n",
    "\n",
    "# Make predictions on the test set\n",
    "Y_pred_svm = svm_clf.predict(X_test)\n",
    "\n",
    "# Calculate the accuracy of the model\n",
    "accuracy_svm = accuracy_score(Y_test, Y_pred_svm)\n",
    "print(f'SVM Model Accuracy: {accuracy_svm * 100:.2f}%')\n",
    "\n",
    "conf_matrix = confusion_matrix(Y_test, Y_pred)\n",
    "print(\"Confusion Matrix:\")\n",
    "print(conf_matrix)\n",
    "\n",
    "print(\"Classification Report:\")\n",
    "print(classification_report(Y_test, Y_pred))"
   ]
  },
  {
   "cell_type": "markdown",
   "id": "80a920c3",
   "metadata": {},
   "source": [
    "**5. Applying XGBoost classifier and fitting on training dataset (using its default parameters):**"
   ]
  },
  {
   "cell_type": "code",
   "execution_count": 25,
   "id": "5a9dd0ef",
   "metadata": {},
   "outputs": [
    {
     "name": "stdout",
     "output_type": "stream",
     "text": [
      "Accuracy: 53.74%\n",
      "Confusion Matrix:\n",
      "[[ 99 111]\n",
      " [ 93 138]]\n",
      "Classification Report:\n",
      "              precision    recall  f1-score   support\n",
      "\n",
      "          -1       0.52      0.47      0.49       210\n",
      "           1       0.55      0.60      0.57       231\n",
      "\n",
      "    accuracy                           0.54       441\n",
      "   macro avg       0.53      0.53      0.53       441\n",
      "weighted avg       0.54      0.54      0.54       441\n",
      "\n"
     ]
    }
   ],
   "source": [
    "# Map the labels\n",
    "Y_train_mapped = Y_train.map({-1: 0, 1: 1})\n",
    "Y_test_mapped = Y_test.map({-1: 0, 1: 1})\n",
    "\n",
    "# Initialize and train the XGBoost Classifier\n",
    "clf = XGBClassifier()\n",
    "clf.fit(X_train, Y_train_mapped)\n",
    "\n",
    "# Predict using the test set\n",
    "Y_pred_mapped = clf.predict(X_test)\n",
    "\n",
    "# Map predictions back to original labels\n",
    "Y_pred = pd.Series(Y_pred_mapped).map({0: -1, 1: 1}).values\n",
    "\n",
    "# Evaluate the model's performance\n",
    "accuracy = accuracy_score(Y_test, Y_pred)\n",
    "print(f\"Accuracy: {accuracy * 100:.2f}%\")\n",
    "\n",
    "\n",
    "conf_matrix = confusion_matrix(Y_test, Y_pred)\n",
    "print(\"Confusion Matrix:\")\n",
    "print(conf_matrix)\n",
    "\n",
    "print(\"Classification Report:\")\n",
    "print(classification_report(Y_test, Y_pred))\n"
   ]
  },
  {
   "cell_type": "markdown",
   "id": "44060312",
   "metadata": {},
   "source": [
    "### Evaluate all the Classifiers on Test dataset:"
   ]
  },
  {
   "cell_type": "markdown",
   "id": "b4e669d5",
   "metadata": {},
   "source": [
    "**1. Evaluating KNN Classifier:**"
   ]
  },
  {
   "cell_type": "code",
   "execution_count": 26,
   "id": "f09f1203",
   "metadata": {},
   "outputs": [
    {
     "name": "stdout",
     "output_type": "stream",
     "text": [
      "Accuracy: 54.42%\n",
      "Confusion Matrix:\n",
      "[[102 108]\n",
      " [ 93 138]]\n",
      "Classification Report:\n",
      "              precision    recall  f1-score   support\n",
      "\n",
      "          -1       0.52      0.49      0.50       210\n",
      "           1       0.56      0.60      0.58       231\n",
      "\n",
      "    accuracy                           0.54       441\n",
      "   macro avg       0.54      0.54      0.54       441\n",
      "weighted avg       0.54      0.54      0.54       441\n",
      "\n"
     ]
    }
   ],
   "source": [
    "# Initialize and train the KNN Classifier\n",
    "knn = KNeighborsClassifier(n_neighbors=3)\n",
    "knn.fit(X_train, Y_train)\n",
    "\n",
    "# Predict using the test set\n",
    "Y_pred_knn = knn.predict(X_test)\n",
    "\n",
    "# Evaluate the model's performance\n",
    "\n",
    "# Accuracy\n",
    "accuracy_knn = accuracy_score(Y_test, Y_pred_knn)\n",
    "print(f\"Accuracy: {accuracy_knn * 100:.2f}%\")\n",
    "\n",
    "# Confusion Matrix\n",
    "conf_matrix_knn = confusion_matrix(Y_test, Y_pred_knn)\n",
    "print(\"Confusion Matrix:\")\n",
    "print(conf_matrix_knn)\n",
    "\n",
    "# Classification Report\n",
    "print(\"Classification Report:\")\n",
    "print(classification_report(Y_test, Y_pred_knn))\n"
   ]
  },
  {
   "cell_type": "markdown",
   "id": "c652ce1e",
   "metadata": {},
   "source": [
    "**2. Evaluating Random Forest Classifier:**"
   ]
  },
  {
   "cell_type": "code",
   "execution_count": 27,
   "id": "f23b49b5",
   "metadata": {},
   "outputs": [
    {
     "name": "stdout",
     "output_type": "stream",
     "text": [
      "Accuracy: 51.70%\n",
      "Confusion Matrix:\n",
      "[[ 90 120]\n",
      " [ 93 138]]\n",
      "Classification Report:\n",
      "              precision    recall  f1-score   support\n",
      "\n",
      "          -1       0.49      0.43      0.46       210\n",
      "           1       0.53      0.60      0.56       231\n",
      "\n",
      "    accuracy                           0.52       441\n",
      "   macro avg       0.51      0.51      0.51       441\n",
      "weighted avg       0.51      0.52      0.51       441\n",
      "\n"
     ]
    }
   ],
   "source": [
    "# Initialize and train the Random Forest Classifier\n",
    "rf = RandomForestClassifier(n_estimators=100, random_state=42)\n",
    "rf.fit(X_train, Y_train)\n",
    "\n",
    "# Predict using the test set\n",
    "Y_pred_rf = rf.predict(X_test)\n",
    "\n",
    "# Evaluate the model's performance\n",
    "\n",
    "# Accuracy\n",
    "accuracy_rf = accuracy_score(Y_test, Y_pred_rf)\n",
    "print(f\"Accuracy: {accuracy_rf * 100:.2f}%\")\n",
    "\n",
    "# Confusion Matrix\n",
    "conf_matrix_rf = confusion_matrix(Y_test, Y_pred_rf)\n",
    "print(\"Confusion Matrix:\")\n",
    "print(conf_matrix_rf)\n",
    "\n",
    "# Classification Report\n",
    "print(\"Classification Report:\")\n",
    "print(classification_report(Y_test, Y_pred_rf))\n"
   ]
  },
  {
   "cell_type": "markdown",
   "id": "492975f6",
   "metadata": {},
   "source": [
    "**3. Evaluating Gradient Boosting Classifier:**"
   ]
  },
  {
   "cell_type": "code",
   "execution_count": 28,
   "id": "f8db21e9",
   "metadata": {},
   "outputs": [
    {
     "name": "stdout",
     "output_type": "stream",
     "text": [
      "Accuracy: 50.79%\n",
      "Confusion Matrix:\n",
      "[[ 53 157]\n",
      " [ 60 171]]\n",
      "Classification Report:\n",
      "              precision    recall  f1-score   support\n",
      "\n",
      "          -1       0.47      0.25      0.33       210\n",
      "           1       0.52      0.74      0.61       231\n",
      "\n",
      "    accuracy                           0.51       441\n",
      "   macro avg       0.50      0.50      0.47       441\n",
      "weighted avg       0.50      0.51      0.48       441\n",
      "\n"
     ]
    }
   ],
   "source": [
    "# Initialize and train the Gradient Boosting Classifier\n",
    "gbc = GradientBoostingClassifier(n_estimators=100, learning_rate=0.1, random_state=42)\n",
    "gbc.fit(X_train, Y_train)\n",
    "\n",
    "# Predict using the test set\n",
    "Y_pred_gbc = gbc.predict(X_test)\n",
    "\n",
    "# Evaluate the model's performance\n",
    "\n",
    "# Accuracy\n",
    "accuracy_gbc = accuracy_score(Y_test, Y_pred_gbc)\n",
    "print(f\"Accuracy: {accuracy_gbc * 100:.2f}%\")\n",
    "\n",
    "# Confusion Matrix\n",
    "conf_matrix_gbc = confusion_matrix(Y_test, Y_pred_gbc)\n",
    "print(\"Confusion Matrix:\")\n",
    "print(conf_matrix_gbc)\n",
    "\n",
    "# Classification Report\n",
    "print(\"Classification Report:\")\n",
    "print(classification_report(Y_test, Y_pred_gbc))\n"
   ]
  },
  {
   "cell_type": "markdown",
   "id": "f6991fd9",
   "metadata": {},
   "source": [
    "**4. Evaluating SVM Classifier:(This cell is commented as execution was extremely time-consuming)**"
   ]
  },
  {
   "cell_type": "code",
   "execution_count": 30,
   "id": "d27d58c8",
   "metadata": {},
   "outputs": [],
   "source": [
    "# # Initialize and train the SVM Classifier\n",
    "# svm_clf = SVC(kernel='linear', C=1, random_state=42)\n",
    "# svm_clf.fit(X_train, Y_train)\n",
    "\n",
    "# # Predict using the test set\n",
    "# Y_pred_svm = svm_clf.predict(X_test)\n",
    "\n",
    "# # Evaluate the model's performance\n",
    "\n",
    "# # Accuracy\n",
    "# accuracy_svm = accuracy_score(Y_test, Y_pred_svm)\n",
    "# print(f\"Accuracy: {accuracy_svm * 100:.2f}%\")\n",
    "\n",
    "# # Confusion Matrix\n",
    "# conf_matrix_svm = confusion_matrix(Y_test, Y_pred_svm)\n",
    "# print(\"Confusion Matrix:\")\n",
    "# print(conf_matrix_svm)\n",
    "\n",
    "# # Classification Report\n",
    "# print(\"Classification Report:\")\n",
    "# print(classification_report(Y_test, Y_pred_svm))\n"
   ]
  },
  {
   "cell_type": "markdown",
   "id": "0f010550",
   "metadata": {},
   "source": [
    "**5. Evaluating XGBoost Classifier:**"
   ]
  },
  {
   "cell_type": "code",
   "execution_count": 31,
   "id": "53eca5f9",
   "metadata": {},
   "outputs": [
    {
     "name": "stdout",
     "output_type": "stream",
     "text": [
      "Accuracy: 53.74%\n",
      "Confusion Matrix:\n",
      "[[ 99 111]\n",
      " [ 93 138]]\n",
      "Classification Report:\n",
      "              precision    recall  f1-score   support\n",
      "\n",
      "          -1       0.52      0.47      0.49       210\n",
      "           1       0.55      0.60      0.57       231\n",
      "\n",
      "    accuracy                           0.54       441\n",
      "   macro avg       0.53      0.53      0.53       441\n",
      "weighted avg       0.54      0.54      0.54       441\n",
      "\n"
     ]
    }
   ],
   "source": [
    "# Map the labels\n",
    "Y_train_mapped = Y_train.map({-1: 0, 1: 1})\n",
    "Y_test_mapped = Y_test.map({-1: 0, 1: 1})\n",
    "\n",
    "# Initialize and train the XGBoost Classifier\n",
    "clf = XGBClassifier()\n",
    "clf.fit(X_train, Y_train_mapped)\n",
    "\n",
    "# Predict using the test set\n",
    "Y_pred_mapped = clf.predict(X_test)\n",
    "\n",
    "# Map predictions back to original labels\n",
    "Y_pred = pd.Series(Y_pred_mapped).map({0: -1, 1: 1}).values\n",
    "\n",
    "# Evaluate the model's performance\n",
    "accuracy = accuracy_score(Y_test, Y_pred)\n",
    "print(f\"Accuracy: {accuracy * 100:.2f}%\")\n",
    "\n",
    "conf_matrix = confusion_matrix(Y_test, Y_pred)\n",
    "print(\"Confusion Matrix:\")\n",
    "print(conf_matrix)\n",
    "\n",
    "print(\"Classification Report:\")\n",
    "print(classification_report(Y_test, Y_pred))\n"
   ]
  },
  {
   "cell_type": "markdown",
   "id": "054848b5",
   "metadata": {},
   "source": [
    "### Observations:"
   ]
  },
  {
   "cell_type": "markdown",
   "id": "31cd9180",
   "metadata": {},
   "source": [
    "**1. The highest accuracy was obtained from KNN Classifier resuting in 54.42% and the lowest accuracy was obtained from Gradient Boosting classifier leading to 50.79%. <br> 2. An interesting point to note is that although Gradient boosting is an optimization technique, it resulted in the lowest accuracy; when compared to the remaining classifiers implemented such as Random forest (51.70%) and SVM (51.93%). But XGBoost (eXtreme Gradient Boosting - leverages efficiency and optimization) has resulted in better model performance than the rest, which upon evaluating resulted in 53.74% accuracy proving to be a better algorithm (than GB) that employs optimization techniques for efficiency and accuracy. <br> 3.  The data portrayed to be non-optimal and this could be a reason for poor accuracy rates. This problem is well-handled with the help of STRATEGY 2 approach.**"
   ]
  },
  {
   "cell_type": "markdown",
   "id": "c44bd0de",
   "metadata": {},
   "source": [
    "# STRATEGY 2: Moving average crossover"
   ]
  },
  {
   "cell_type": "markdown",
   "id": "8399d70c",
   "metadata": {},
   "source": [
    "**In this approach, we utilize the power of Moving Averages. A crossover between two moving averages represents potential market entry and exit points: <br> Golden Cross: A bullish signal where the 50-day MA crosses above the 200-day MA.<br>\n",
    "Death Cross: A bearish signal where the 50-day MA crosses below the 200-day MA. <br><br> To identify these crossovers, we'll calculate the 50-day and 200-day MAs and observe their interactions.**"
   ]
  },
  {
   "cell_type": "code",
   "execution_count": 33,
   "id": "e79d4086",
   "metadata": {},
   "outputs": [],
   "source": [
    "# Calculating 50-day and 200-day moving averages\n",
    "\n",
    "amzn_data_strat2['50_Day_MA'] = amzn_data_strat2['Close'].rolling(window=50).mean()\n",
    "amzn_data_strat2['200_Day_MA'] = amzn_data_strat2['Close'].rolling(window=200).mean()\n",
    "\n",
    "# Creating target labels for Strategy 2 (Golden Cross)\n",
    "\n",
    "amzn_data_strat2['Signal'] = np.where(amzn_data_strat2['50_Day_MA'] > amzn_data_strat2['200_Day_MA'], 1, 0)"
   ]
  },
  {
   "cell_type": "code",
   "execution_count": 34,
   "id": "5b1b70ff",
   "metadata": {},
   "outputs": [
    {
     "data": {
      "text/html": [
       "<div>\n",
       "<style scoped>\n",
       "    .dataframe tbody tr th:only-of-type {\n",
       "        vertical-align: middle;\n",
       "    }\n",
       "\n",
       "    .dataframe tbody tr th {\n",
       "        vertical-align: top;\n",
       "    }\n",
       "\n",
       "    .dataframe thead th {\n",
       "        text-align: right;\n",
       "    }\n",
       "</style>\n",
       "<table border=\"1\" class=\"dataframe\">\n",
       "  <thead>\n",
       "    <tr style=\"text-align: right;\">\n",
       "      <th></th>\n",
       "      <th>Open</th>\n",
       "      <th>High</th>\n",
       "      <th>Low</th>\n",
       "      <th>Close</th>\n",
       "      <th>Adj Close</th>\n",
       "      <th>Volume</th>\n",
       "      <th>50_Day_MA</th>\n",
       "      <th>200_Day_MA</th>\n",
       "      <th>Signal</th>\n",
       "    </tr>\n",
       "    <tr>\n",
       "      <th>Date</th>\n",
       "      <th></th>\n",
       "      <th></th>\n",
       "      <th></th>\n",
       "      <th></th>\n",
       "      <th></th>\n",
       "      <th></th>\n",
       "      <th></th>\n",
       "      <th></th>\n",
       "      <th></th>\n",
       "    </tr>\n",
       "  </thead>\n",
       "  <tbody>\n",
       "    <tr>\n",
       "      <th>2015-01-02</th>\n",
       "      <td>15.629000</td>\n",
       "      <td>15.737500</td>\n",
       "      <td>15.348000</td>\n",
       "      <td>15.426000</td>\n",
       "      <td>15.426000</td>\n",
       "      <td>55664000</td>\n",
       "      <td>NaN</td>\n",
       "      <td>NaN</td>\n",
       "      <td>0</td>\n",
       "    </tr>\n",
       "    <tr>\n",
       "      <th>2015-01-05</th>\n",
       "      <td>15.350500</td>\n",
       "      <td>15.419000</td>\n",
       "      <td>15.042500</td>\n",
       "      <td>15.109500</td>\n",
       "      <td>15.109500</td>\n",
       "      <td>55484000</td>\n",
       "      <td>NaN</td>\n",
       "      <td>NaN</td>\n",
       "      <td>0</td>\n",
       "    </tr>\n",
       "    <tr>\n",
       "      <th>2015-01-06</th>\n",
       "      <td>15.112000</td>\n",
       "      <td>15.150000</td>\n",
       "      <td>14.619000</td>\n",
       "      <td>14.764500</td>\n",
       "      <td>14.764500</td>\n",
       "      <td>70380000</td>\n",
       "      <td>NaN</td>\n",
       "      <td>NaN</td>\n",
       "      <td>0</td>\n",
       "    </tr>\n",
       "    <tr>\n",
       "      <th>2015-01-07</th>\n",
       "      <td>14.875000</td>\n",
       "      <td>15.064000</td>\n",
       "      <td>14.766500</td>\n",
       "      <td>14.921000</td>\n",
       "      <td>14.921000</td>\n",
       "      <td>52806000</td>\n",
       "      <td>NaN</td>\n",
       "      <td>NaN</td>\n",
       "      <td>0</td>\n",
       "    </tr>\n",
       "    <tr>\n",
       "      <th>2015-01-08</th>\n",
       "      <td>15.016000</td>\n",
       "      <td>15.157000</td>\n",
       "      <td>14.805500</td>\n",
       "      <td>15.023000</td>\n",
       "      <td>15.023000</td>\n",
       "      <td>61768000</td>\n",
       "      <td>NaN</td>\n",
       "      <td>NaN</td>\n",
       "      <td>0</td>\n",
       "    </tr>\n",
       "    <tr>\n",
       "      <th>...</th>\n",
       "      <td>...</td>\n",
       "      <td>...</td>\n",
       "      <td>...</td>\n",
       "      <td>...</td>\n",
       "      <td>...</td>\n",
       "      <td>...</td>\n",
       "      <td>...</td>\n",
       "      <td>...</td>\n",
       "      <td>...</td>\n",
       "    </tr>\n",
       "    <tr>\n",
       "      <th>2023-09-27</th>\n",
       "      <td>125.760002</td>\n",
       "      <td>127.480003</td>\n",
       "      <td>124.129997</td>\n",
       "      <td>125.980003</td>\n",
       "      <td>125.980003</td>\n",
       "      <td>66553400</td>\n",
       "      <td>134.955801</td>\n",
       "      <td>112.78930</td>\n",
       "      <td>1</td>\n",
       "    </tr>\n",
       "    <tr>\n",
       "      <th>2023-09-28</th>\n",
       "      <td>124.040001</td>\n",
       "      <td>126.580002</td>\n",
       "      <td>123.040001</td>\n",
       "      <td>125.980003</td>\n",
       "      <td>125.980003</td>\n",
       "      <td>54555000</td>\n",
       "      <td>134.768201</td>\n",
       "      <td>112.97375</td>\n",
       "      <td>1</td>\n",
       "    </tr>\n",
       "    <tr>\n",
       "      <th>2023-09-29</th>\n",
       "      <td>128.199997</td>\n",
       "      <td>129.149994</td>\n",
       "      <td>126.320000</td>\n",
       "      <td>127.120003</td>\n",
       "      <td>127.120003</td>\n",
       "      <td>62377600</td>\n",
       "      <td>134.711401</td>\n",
       "      <td>113.15660</td>\n",
       "      <td>1</td>\n",
       "    </tr>\n",
       "    <tr>\n",
       "      <th>2023-10-02</th>\n",
       "      <td>127.279999</td>\n",
       "      <td>130.470001</td>\n",
       "      <td>126.540001</td>\n",
       "      <td>129.460007</td>\n",
       "      <td>129.460007</td>\n",
       "      <td>48029700</td>\n",
       "      <td>134.700601</td>\n",
       "      <td>113.34145</td>\n",
       "      <td>1</td>\n",
       "    </tr>\n",
       "    <tr>\n",
       "      <th>2023-10-03</th>\n",
       "      <td>128.059998</td>\n",
       "      <td>128.520004</td>\n",
       "      <td>124.250000</td>\n",
       "      <td>124.720001</td>\n",
       "      <td>124.720001</td>\n",
       "      <td>51565000</td>\n",
       "      <td>134.619001</td>\n",
       "      <td>113.50715</td>\n",
       "      <td>1</td>\n",
       "    </tr>\n",
       "  </tbody>\n",
       "</table>\n",
       "<p>2203 rows × 9 columns</p>\n",
       "</div>"
      ],
      "text/plain": [
       "                  Open        High         Low       Close   Adj Close  \\\n",
       "Date                                                                     \n",
       "2015-01-02   15.629000   15.737500   15.348000   15.426000   15.426000   \n",
       "2015-01-05   15.350500   15.419000   15.042500   15.109500   15.109500   \n",
       "2015-01-06   15.112000   15.150000   14.619000   14.764500   14.764500   \n",
       "2015-01-07   14.875000   15.064000   14.766500   14.921000   14.921000   \n",
       "2015-01-08   15.016000   15.157000   14.805500   15.023000   15.023000   \n",
       "...                ...         ...         ...         ...         ...   \n",
       "2023-09-27  125.760002  127.480003  124.129997  125.980003  125.980003   \n",
       "2023-09-28  124.040001  126.580002  123.040001  125.980003  125.980003   \n",
       "2023-09-29  128.199997  129.149994  126.320000  127.120003  127.120003   \n",
       "2023-10-02  127.279999  130.470001  126.540001  129.460007  129.460007   \n",
       "2023-10-03  128.059998  128.520004  124.250000  124.720001  124.720001   \n",
       "\n",
       "              Volume   50_Day_MA  200_Day_MA  Signal  \n",
       "Date                                                  \n",
       "2015-01-02  55664000         NaN         NaN       0  \n",
       "2015-01-05  55484000         NaN         NaN       0  \n",
       "2015-01-06  70380000         NaN         NaN       0  \n",
       "2015-01-07  52806000         NaN         NaN       0  \n",
       "2015-01-08  61768000         NaN         NaN       0  \n",
       "...              ...         ...         ...     ...  \n",
       "2023-09-27  66553400  134.955801   112.78930       1  \n",
       "2023-09-28  54555000  134.768201   112.97375       1  \n",
       "2023-09-29  62377600  134.711401   113.15660       1  \n",
       "2023-10-02  48029700  134.700601   113.34145       1  \n",
       "2023-10-03  51565000  134.619001   113.50715       1  \n",
       "\n",
       "[2203 rows x 9 columns]"
      ]
     },
     "execution_count": 34,
     "metadata": {},
     "output_type": "execute_result"
    }
   ],
   "source": [
    "amzn_data_strat2 # Displaying the moving averages in our dataframe"
   ]
  },
  {
   "cell_type": "markdown",
   "id": "348e2b75",
   "metadata": {},
   "source": [
    "**Data Preprocessing: To ensure there are no NaN values, especially after calculating the MAs.**"
   ]
  },
  {
   "cell_type": "code",
   "execution_count": 35,
   "id": "abebb2cc",
   "metadata": {},
   "outputs": [],
   "source": [
    "amzn_data_strat2.dropna(inplace = True) # Dropping NaN values"
   ]
  },
  {
   "cell_type": "code",
   "execution_count": 36,
   "id": "76e0c8ae",
   "metadata": {},
   "outputs": [
    {
     "data": {
      "text/plain": [
       "Open          0\n",
       "High          0\n",
       "Low           0\n",
       "Close         0\n",
       "Adj Close     0\n",
       "Volume        0\n",
       "50_Day_MA     0\n",
       "200_Day_MA    0\n",
       "Signal        0\n",
       "dtype: int64"
      ]
     },
     "execution_count": 36,
     "metadata": {},
     "output_type": "execute_result"
    }
   ],
   "source": [
    "amzn_data_strat2.isna().sum() # Ensuring there are no NaN values "
   ]
  },
  {
   "cell_type": "markdown",
   "id": "0cc1770b",
   "metadata": {},
   "source": [
    "**Now we find out the correlation of each column with respect to the Moving Aversges and drop all the negatively correlated columns**"
   ]
  },
  {
   "cell_type": "code",
   "execution_count": 37,
   "id": "fe156f2c",
   "metadata": {},
   "outputs": [
    {
     "name": "stdout",
     "output_type": "stream",
     "text": [
      "                Open      High       Low     Close  Adj Close    Volume  \\\n",
      "Open        1.000000  0.999672  0.999603  0.999195   0.999195 -0.094877   \n",
      "High        0.999672  1.000000  0.999518  0.999622   0.999622 -0.087876   \n",
      "Low         0.999603  0.999518  1.000000  0.999637   0.999637 -0.104676   \n",
      "Close       0.999195  0.999622  0.999637  1.000000   1.000000 -0.096380   \n",
      "Adj Close   0.999195  0.999622  0.999637  1.000000   1.000000 -0.096380   \n",
      "Volume     -0.094877 -0.087876 -0.104676 -0.096380  -0.096380  1.000000   \n",
      "50_Day_MA   0.983663  0.984195  0.982630  0.983185   0.983185 -0.077202   \n",
      "200_Day_MA  0.932843  0.934408  0.931401  0.932789   0.932789 -0.107900   \n",
      "Signal     -0.101807 -0.105738 -0.098648 -0.102386  -0.102386  0.062483   \n",
      "\n",
      "            50_Day_MA  200_Day_MA    Signal  \n",
      "Open         0.983663    0.932843 -0.101807  \n",
      "High         0.984195    0.934408 -0.105738  \n",
      "Low          0.982630    0.931401 -0.098648  \n",
      "Close        0.983185    0.932789 -0.102386  \n",
      "Adj Close    0.983185    0.932789 -0.102386  \n",
      "Volume      -0.077202   -0.107900  0.062483  \n",
      "50_Day_MA    1.000000    0.963234 -0.144045  \n",
      "200_Day_MA   0.963234    1.000000 -0.334080  \n",
      "Signal      -0.144045   -0.334080  1.000000  \n"
     ]
    },
    {
     "data": {
      "image/png": "[encoded data removed]",
      "text/plain": [
       "<Figure size 576x360 with 2 Axes>"
      ]
     },
     "metadata": {
      "needs_background": "light"
     },
     "output_type": "display_data"
    },
    {
     "name": "stdout",
     "output_type": "stream",
     "text": [
      "Open         -0.101807\n",
      "High         -0.105738\n",
      "Low          -0.098648\n",
      "Close        -0.102386\n",
      "Adj Close    -0.102386\n",
      "Volume        0.062483\n",
      "50_Day_MA    -0.144045\n",
      "200_Day_MA   -0.334080\n",
      "Signal        1.000000\n",
      "Name: Signal, dtype: float64\n"
     ]
    }
   ],
   "source": [
    "correlation_matrix = amzn_data_strat2.corr()\n",
    "# Display the Correlation Matrix\n",
    "print(correlation_matrix)\n",
    "\n",
    "# Visualize the Correlation Matrix Using a Heatmap\n",
    "\n",
    "plt.figure(figsize=(8, 5)) \n",
    "sns.heatmap(correlation_matrix, annot=True, cmap='RdBu', fmt=\".2f\")  # Plot the correlation heatmap with specified parameters\n",
    "plt.title(\"Correlation Matrix of Amzn_Data_strat2 with respect to 'signal'\") # Add title\n",
    "\n",
    "# Display the heatmap\n",
    "plt.show()\n",
    "\n",
    "# Extract the 'signal' column from the correlation matrix\n",
    "signal_correlation = correlation_matrix['Signal']\n",
    "\n",
    "# Print the correlations of each column with respect to 'signal'\n",
    "print(signal_correlation)\n",
    "\n"
   ]
  },
  {
   "cell_type": "markdown",
   "id": "08bf3e4e",
   "metadata": {},
   "source": [
    "**Dropping the negatively correlated columns along with columns containing outliers:**"
   ]
  },
  {
   "cell_type": "code",
   "execution_count": 38,
   "id": "549f0e30",
   "metadata": {},
   "outputs": [
    {
     "data": {
      "text/html": [
       "<div>\n",
       "<style scoped>\n",
       "    .dataframe tbody tr th:only-of-type {\n",
       "        vertical-align: middle;\n",
       "    }\n",
       "\n",
       "    .dataframe tbody tr th {\n",
       "        vertical-align: top;\n",
       "    }\n",
       "\n",
       "    .dataframe thead th {\n",
       "        text-align: right;\n",
       "    }\n",
       "</style>\n",
       "<table border=\"1\" class=\"dataframe\">\n",
       "  <thead>\n",
       "    <tr style=\"text-align: right;\">\n",
       "      <th></th>\n",
       "      <th>Adj Close</th>\n",
       "      <th>50_Day_MA</th>\n",
       "      <th>200_Day_MA</th>\n",
       "      <th>Signal</th>\n",
       "    </tr>\n",
       "    <tr>\n",
       "      <th>Date</th>\n",
       "      <th></th>\n",
       "      <th></th>\n",
       "      <th></th>\n",
       "      <th></th>\n",
       "    </tr>\n",
       "  </thead>\n",
       "  <tbody>\n",
       "    <tr>\n",
       "      <th>2015-10-16</th>\n",
       "      <td>28.538000</td>\n",
       "      <td>26.220870</td>\n",
       "      <td>21.667815</td>\n",
       "      <td>1</td>\n",
       "    </tr>\n",
       "    <tr>\n",
       "      <th>2015-10-19</th>\n",
       "      <td>28.657499</td>\n",
       "      <td>26.271400</td>\n",
       "      <td>21.733972</td>\n",
       "      <td>1</td>\n",
       "    </tr>\n",
       "    <tr>\n",
       "      <th>2015-10-20</th>\n",
       "      <td>28.044001</td>\n",
       "      <td>26.308280</td>\n",
       "      <td>21.798645</td>\n",
       "      <td>1</td>\n",
       "    </tr>\n",
       "    <tr>\n",
       "      <th>2015-10-21</th>\n",
       "      <td>27.788500</td>\n",
       "      <td>26.336590</td>\n",
       "      <td>21.863765</td>\n",
       "      <td>1</td>\n",
       "    </tr>\n",
       "    <tr>\n",
       "      <th>2015-10-22</th>\n",
       "      <td>28.195499</td>\n",
       "      <td>26.374590</td>\n",
       "      <td>21.930137</td>\n",
       "      <td>1</td>\n",
       "    </tr>\n",
       "    <tr>\n",
       "      <th>...</th>\n",
       "      <td>...</td>\n",
       "      <td>...</td>\n",
       "      <td>...</td>\n",
       "      <td>...</td>\n",
       "    </tr>\n",
       "    <tr>\n",
       "      <th>2023-09-27</th>\n",
       "      <td>125.980003</td>\n",
       "      <td>134.955801</td>\n",
       "      <td>112.789300</td>\n",
       "      <td>1</td>\n",
       "    </tr>\n",
       "    <tr>\n",
       "      <th>2023-09-28</th>\n",
       "      <td>125.980003</td>\n",
       "      <td>134.768201</td>\n",
       "      <td>112.973750</td>\n",
       "      <td>1</td>\n",
       "    </tr>\n",
       "    <tr>\n",
       "      <th>2023-09-29</th>\n",
       "      <td>127.120003</td>\n",
       "      <td>134.711401</td>\n",
       "      <td>113.156600</td>\n",
       "      <td>1</td>\n",
       "    </tr>\n",
       "    <tr>\n",
       "      <th>2023-10-02</th>\n",
       "      <td>129.460007</td>\n",
       "      <td>134.700601</td>\n",
       "      <td>113.341450</td>\n",
       "      <td>1</td>\n",
       "    </tr>\n",
       "    <tr>\n",
       "      <th>2023-10-03</th>\n",
       "      <td>124.720001</td>\n",
       "      <td>134.619001</td>\n",
       "      <td>113.507150</td>\n",
       "      <td>1</td>\n",
       "    </tr>\n",
       "  </tbody>\n",
       "</table>\n",
       "<p>2004 rows × 4 columns</p>\n",
       "</div>"
      ],
      "text/plain": [
       "             Adj Close   50_Day_MA  200_Day_MA  Signal\n",
       "Date                                                  \n",
       "2015-10-16   28.538000   26.220870   21.667815       1\n",
       "2015-10-19   28.657499   26.271400   21.733972       1\n",
       "2015-10-20   28.044001   26.308280   21.798645       1\n",
       "2015-10-21   27.788500   26.336590   21.863765       1\n",
       "2015-10-22   28.195499   26.374590   21.930137       1\n",
       "...                ...         ...         ...     ...\n",
       "2023-09-27  125.980003  134.955801  112.789300       1\n",
       "2023-09-28  125.980003  134.768201  112.973750       1\n",
       "2023-09-29  127.120003  134.711401  113.156600       1\n",
       "2023-10-02  129.460007  134.700601  113.341450       1\n",
       "2023-10-03  124.720001  134.619001  113.507150       1\n",
       "\n",
       "[2004 rows x 4 columns]"
      ]
     },
     "execution_count": 38,
     "metadata": {},
     "output_type": "execute_result"
    }
   ],
   "source": [
    "amzn_data_strat2 = amzn_data_strat2.drop(columns=['Open', 'High', 'Low', 'Close', 'Volume'])\n",
    "\n",
    "amzn_data_strat2"
   ]
  },
  {
   "cell_type": "code",
   "execution_count": 39,
   "id": "6cac8854",
   "metadata": {},
   "outputs": [
    {
     "data": {
      "text/plain": [
       "Adj Close     0\n",
       "50_Day_MA     0\n",
       "200_Day_MA    0\n",
       "Signal        0\n",
       "dtype: int64"
      ]
     },
     "execution_count": 39,
     "metadata": {},
     "output_type": "execute_result"
    }
   ],
   "source": [
    "amzn_data_strat2.isna().sum() # Checking if there are any NaN values"
   ]
  },
  {
   "cell_type": "markdown",
   "id": "78add4a9",
   "metadata": {},
   "source": [
    "\n",
    "**Implementing Feature Engineering & defining features:**"
   ]
  },
  {
   "cell_type": "code",
   "execution_count": 40,
   "id": "1ade192d",
   "metadata": {},
   "outputs": [],
   "source": [
    "# Defining feature variable 'X' and target variable 'Y'\n",
    "X = amzn_data_strat2.drop(columns=['Signal']).copy()\n",
    "Y = amzn_data_strat2['Signal']"
   ]
  },
  {
   "cell_type": "markdown",
   "id": "a737157f",
   "metadata": {},
   "source": [
    "**Splitting the strategy 2 data into training and test datasets:**"
   ]
  },
  {
   "cell_type": "code",
   "execution_count": 41,
   "id": "d7f2d195",
   "metadata": {},
   "outputs": [],
   "source": [
    "# Split the data into training and test sets with an 80/20 ratio\n",
    "X_train, X_test, Y_train, Y_test = train_test_split(X, Y, test_size=0.20, random_state=42)"
   ]
  },
  {
   "cell_type": "markdown",
   "id": "300aa57c",
   "metadata": {},
   "source": [
    "### Implementing Machine Learning algorithms: "
   ]
  },
  {
   "cell_type": "markdown",
   "id": "15ad2363",
   "metadata": {},
   "source": [
    "**The Classifiers that are to be used during this process are as follows: <br>\n",
    "    1. KNN Classifier <br>\n",
    "    2. Random Forest Classifier <br>\n",
    "    3. Gradient Boosting Classifier <br>\n",
    "    4. Support Vector Machine (SVM) Classifier <br>\n",
    "    5. XGBoost Classifier**"
   ]
  },
  {
   "cell_type": "markdown",
   "id": "9ddd9ff6",
   "metadata": {},
   "source": [
    "**1. Applying the KNN classifier and fitting it on the training dataset (using its default parameters):**"
   ]
  },
  {
   "cell_type": "code",
   "execution_count": 42,
   "id": "0cd70ae9",
   "metadata": {},
   "outputs": [
    {
     "name": "stdout",
     "output_type": "stream",
     "text": [
      "KNN Classifier Accuracy: 98.50%\n",
      "Confusion Matrix:\n",
      "[[ 88   2]\n",
      " [  4 307]]\n",
      "Classification Report:\n",
      "              precision    recall  f1-score   support\n",
      "\n",
      "           0       0.96      0.98      0.97        90\n",
      "           1       0.99      0.99      0.99       311\n",
      "\n",
      "    accuracy                           0.99       401\n",
      "   macro avg       0.98      0.98      0.98       401\n",
      "weighted avg       0.99      0.99      0.99       401\n",
      "\n"
     ]
    }
   ],
   "source": [
    "# Model Training\n",
    "# Create an instance of the classifier with n_jobs=1\n",
    "knn_clf = KNeighborsClassifier(n_jobs=1)\n",
    "\n",
    "# Fit the classifier on the training dataset\n",
    "knn_clf.fit(X_train, Y_train.ravel())  # Use ravel() to convert Y_train to 1D array\n",
    "\n",
    "# Make predictions on the test set\n",
    "Y_pred = knn_clf.predict(X_test)\n",
    "\n",
    "# Calculate the accuracy of the model\n",
    "accuracy = accuracy_score(Y_test, Y_pred)\n",
    "print(f'KNN Classifier Accuracy: {accuracy * 100:.2f}%')\n",
    "\n",
    "conf_matrix = confusion_matrix(Y_test, Y_pred)\n",
    "print(\"Confusion Matrix:\")\n",
    "print(conf_matrix)\n",
    "\n",
    "print(\"Classification Report:\")\n",
    "print(classification_report(Y_test, Y_pred))"
   ]
  },
  {
   "cell_type": "markdown",
   "id": "8ae4de08",
   "metadata": {},
   "source": [
    "**2. Applying the Random Forest classifier and fitting it on the training dataset (using its default parameters):**"
   ]
  },
  {
   "cell_type": "code",
   "execution_count": 43,
   "id": "355deb0f",
   "metadata": {},
   "outputs": [
    {
     "name": "stdout",
     "output_type": "stream",
     "text": [
      "Random Forest Model Accuracy: 99.00%\n",
      "Confusion Matrix:\n",
      "[[ 88   2]\n",
      " [  4 307]]\n",
      "Classification Report:\n",
      "              precision    recall  f1-score   support\n",
      "\n",
      "           0       0.96      0.98      0.97        90\n",
      "           1       0.99      0.99      0.99       311\n",
      "\n",
      "    accuracy                           0.99       401\n",
      "   macro avg       0.98      0.98      0.98       401\n",
      "weighted avg       0.99      0.99      0.99       401\n",
      "\n"
     ]
    }
   ],
   "source": [
    "# Initialize the Random Forest Classifier with default parameters\n",
    "rf_clf = RandomForestClassifier(random_state=42)\n",
    "\n",
    "# Fit the classifier on the training dataset\n",
    "rf_clf.fit(X_train, Y_train.ravel())  # Use ravel() to convert Y_train to 1D array if it's 2D\n",
    "\n",
    "# Make predictions on the test set\n",
    "Y_pred_rf = rf_clf.predict(X_test)\n",
    "\n",
    "# Calculate the accuracy of the model\n",
    "accuracy_rf = accuracy_score(Y_test, Y_pred_rf)\n",
    "print(f'Random Forest Model Accuracy: {accuracy_rf * 100:.2f}%')\n",
    "\n",
    "conf_matrix = confusion_matrix(Y_test, Y_pred)\n",
    "print(\"Confusion Matrix:\")\n",
    "print(conf_matrix)\n",
    "\n",
    "print(\"Classification Report:\")\n",
    "print(classification_report(Y_test, Y_pred))\n"
   ]
  },
  {
   "cell_type": "markdown",
   "id": "73fc4bf4",
   "metadata": {},
   "source": [
    "**3. Applying the Gradient Boosting classifier and fitting it on the training dataset (using its default parameters):**"
   ]
  },
  {
   "cell_type": "code",
   "execution_count": 44,
   "id": "93ec58f4",
   "metadata": {},
   "outputs": [
    {
     "name": "stdout",
     "output_type": "stream",
     "text": [
      "Gradient Boosting Model Accuracy: 98.75%\n",
      "Confusion Matrix:\n",
      "[[ 88   2]\n",
      " [  4 307]]\n",
      "Classification Report:\n",
      "              precision    recall  f1-score   support\n",
      "\n",
      "           0       0.96      0.98      0.97        90\n",
      "           1       0.99      0.99      0.99       311\n",
      "\n",
      "    accuracy                           0.99       401\n",
      "   macro avg       0.98      0.98      0.98       401\n",
      "weighted avg       0.99      0.99      0.99       401\n",
      "\n"
     ]
    }
   ],
   "source": [
    "# Initialize the Gradient Boosting Classifier with default parameters\n",
    "gb_clf = GradientBoostingClassifier(random_state=42)\n",
    "\n",
    "# Fit the classifier on the training dataset\n",
    "gb_clf.fit(X_train, Y_train.ravel())  # Use ravel() to convert Y_train to 1D array if it's 2D\n",
    "\n",
    "# Make predictions on the test set\n",
    "Y_pred_gb = gb_clf.predict(X_test)\n",
    "\n",
    "# Calculate the accuracy of the model\n",
    "accuracy_gb = accuracy_score(Y_test, Y_pred_gb)\n",
    "print(f'Gradient Boosting Model Accuracy: {accuracy_gb * 100:.2f}%')\n",
    "\n",
    "\n",
    "conf_matrix = confusion_matrix(Y_test, Y_pred)\n",
    "print(\"Confusion Matrix:\")\n",
    "print(conf_matrix)\n",
    "\n",
    "print(\"Classification Report:\")\n",
    "print(classification_report(Y_test, Y_pred))\n"
   ]
  },
  {
   "cell_type": "markdown",
   "id": "8ac5411b",
   "metadata": {},
   "source": [
    "**4. Applying the SVM classifier and fitting it on the training dataset (using its default parameters):**"
   ]
  },
  {
   "cell_type": "code",
   "execution_count": 45,
   "id": "9db0fce4",
   "metadata": {},
   "outputs": [
    {
     "name": "stdout",
     "output_type": "stream",
     "text": [
      "SVM Model Accuracy: 97.01%\n",
      "Confusion Matrix:\n",
      "[[ 88   2]\n",
      " [  4 307]]\n",
      "Classification Report:\n",
      "              precision    recall  f1-score   support\n",
      "\n",
      "           0       0.96      0.98      0.97        90\n",
      "           1       0.99      0.99      0.99       311\n",
      "\n",
      "    accuracy                           0.99       401\n",
      "   macro avg       0.98      0.98      0.98       401\n",
      "weighted avg       0.99      0.99      0.99       401\n",
      "\n"
     ]
    }
   ],
   "source": [
    "# Initialize the SVM Classifier with default parameters\n",
    "svm_clf = SVC(random_state=42)\n",
    "\n",
    "# Fit the classifier on the training dataset\n",
    "svm_clf.fit(X_train, Y_train.ravel())  # Use ravel() to convert Y_train to 1D array if it's 2D\n",
    "\n",
    "# Make predictions on the test set\n",
    "Y_pred_svm = svm_clf.predict(X_test)\n",
    "\n",
    "# Calculate the accuracy of the model\n",
    "accuracy_svm = accuracy_score(Y_test, Y_pred_svm)\n",
    "print(f'SVM Model Accuracy: {accuracy_svm * 100:.2f}%')\n",
    "\n",
    "conf_matrix = confusion_matrix(Y_test, Y_pred)\n",
    "print(\"Confusion Matrix:\")\n",
    "print(conf_matrix)\n",
    "\n",
    "print(\"Classification Report:\")\n",
    "print(classification_report(Y_test, Y_pred))"
   ]
  },
  {
   "cell_type": "markdown",
   "id": "a48e1b54",
   "metadata": {},
   "source": [
    "**5. Applying the XGBoost classifier and fitting it on the training dataset (using its default parameters):**"
   ]
  },
  {
   "cell_type": "code",
   "execution_count": 46,
   "id": "64cbb521",
   "metadata": {},
   "outputs": [
    {
     "name": "stdout",
     "output_type": "stream",
     "text": [
      "Accuracy: 77.06%\n"
     ]
    }
   ],
   "source": [
    "# Initialize and train the XGBoost Classifier\n",
    "clf = XGBClassifier()\n",
    "clf.fit(X_train, Y_train)\n",
    "\n",
    "# Predict using the test set\n",
    "Y_pred_mapped = clf.predict(X_test)\n",
    "\n",
    "# Map predictions back to original labels\n",
    "Y_pred = pd.Series(Y_pred_mapped).map({0: -1, 1: 1}).values\n",
    "\n",
    "# Evaluate the model's performance\n",
    "accuracy = accuracy_score(Y_test, Y_pred)\n",
    "print(f\"Accuracy: {accuracy * 100:.2f}%\")\n"
   ]
  },
  {
   "cell_type": "markdown",
   "id": "8da6fed3",
   "metadata": {},
   "source": [
    "### Evaluate all the Classifiers on Test dataset:"
   ]
  },
  {
   "cell_type": "markdown",
   "id": "ee66269b",
   "metadata": {},
   "source": [
    "**1. Evaluating KNN classifier**"
   ]
  },
  {
   "cell_type": "code",
   "execution_count": 47,
   "id": "b0f7f114",
   "metadata": {},
   "outputs": [
    {
     "name": "stdout",
     "output_type": "stream",
     "text": [
      "Accuracy: 99.00%\n",
      "Confusion Matrix:\n",
      "[[ 90   0]\n",
      " [  4 307]]\n",
      "Classification Report:\n",
      "              precision    recall  f1-score   support\n",
      "\n",
      "           0       0.96      1.00      0.98        90\n",
      "           1       1.00      0.99      0.99       311\n",
      "\n",
      "    accuracy                           0.99       401\n",
      "   macro avg       0.98      0.99      0.99       401\n",
      "weighted avg       0.99      0.99      0.99       401\n",
      "\n"
     ]
    }
   ],
   "source": [
    "# Initialize and train the KNN Classifier\n",
    "knn = KNeighborsClassifier(n_neighbors=3)\n",
    "knn.fit(X_train, Y_train)\n",
    "\n",
    "# Predict using the test set\n",
    "Y_pred_knn = knn.predict(X_test)\n",
    "\n",
    "# Evaluate the model's performance\n",
    "\n",
    "# Accuracy\n",
    "accuracy_knn = accuracy_score(Y_test, Y_pred_knn)\n",
    "print(f\"Accuracy: {accuracy_knn * 100:.2f}%\")\n",
    "\n",
    "# Confusion Matrix\n",
    "conf_matrix_knn = confusion_matrix(Y_test, Y_pred_knn)\n",
    "print(\"Confusion Matrix:\")\n",
    "print(conf_matrix_knn)\n",
    "\n",
    "# Classification Report\n",
    "print(\"Classification Report:\")\n",
    "print(classification_report(Y_test, Y_pred_knn))\n"
   ]
  },
  {
   "cell_type": "markdown",
   "id": "c8daa80b",
   "metadata": {},
   "source": [
    "**2. Evaluating Random forest classifier**"
   ]
  },
  {
   "cell_type": "code",
   "execution_count": 48,
   "id": "27e6e59a",
   "metadata": {},
   "outputs": [
    {
     "name": "stdout",
     "output_type": "stream",
     "text": [
      "Accuracy: 99.00%\n",
      "Confusion Matrix:\n",
      "[[ 89   1]\n",
      " [  3 308]]\n",
      "Classification Report:\n",
      "              precision    recall  f1-score   support\n",
      "\n",
      "           0       0.97      0.99      0.98        90\n",
      "           1       1.00      0.99      0.99       311\n",
      "\n",
      "    accuracy                           0.99       401\n",
      "   macro avg       0.98      0.99      0.99       401\n",
      "weighted avg       0.99      0.99      0.99       401\n",
      "\n"
     ]
    }
   ],
   "source": [
    "# Initialize and train the Random Forest Classifier\n",
    "rf = RandomForestClassifier(n_estimators=100, random_state=42)\n",
    "rf.fit(X_train, Y_train)\n",
    "\n",
    "# Predict using the test set\n",
    "Y_pred_rf = rf.predict(X_test)\n",
    "\n",
    "# Evaluate the model's performance\n",
    "\n",
    "# Accuracy\n",
    "accuracy_rf = accuracy_score(Y_test, Y_pred_rf)\n",
    "print(f\"Accuracy: {accuracy_rf * 100:.2f}%\")\n",
    "\n",
    "# Confusion Matrix\n",
    "conf_matrix_rf = confusion_matrix(Y_test, Y_pred_rf)\n",
    "print(\"Confusion Matrix:\")\n",
    "print(conf_matrix_rf)\n",
    "\n",
    "# Classification Report\n",
    "print(\"Classification Report:\")\n",
    "print(classification_report(Y_test, Y_pred_rf))\n"
   ]
  },
  {
   "cell_type": "markdown",
   "id": "5a227787",
   "metadata": {},
   "source": [
    "**3. Evaluating Gradient Boosting classifier**"
   ]
  },
  {
   "cell_type": "code",
   "execution_count": 49,
   "id": "a8d64d0a",
   "metadata": {},
   "outputs": [
    {
     "name": "stdout",
     "output_type": "stream",
     "text": [
      "Accuracy: 98.75%\n",
      "Confusion Matrix:\n",
      "[[ 88   2]\n",
      " [  3 308]]\n",
      "Classification Report:\n",
      "              precision    recall  f1-score   support\n",
      "\n",
      "           0       0.97      0.98      0.97        90\n",
      "           1       0.99      0.99      0.99       311\n",
      "\n",
      "    accuracy                           0.99       401\n",
      "   macro avg       0.98      0.98      0.98       401\n",
      "weighted avg       0.99      0.99      0.99       401\n",
      "\n"
     ]
    }
   ],
   "source": [
    "# Initialize and train the Gradient Boosting Classifier\n",
    "gbc = GradientBoostingClassifier(n_estimators=100, learning_rate=0.1, random_state=42)\n",
    "gbc.fit(X_train, Y_train)\n",
    "\n",
    "# Predict using the test set\n",
    "Y_pred_gbc = gbc.predict(X_test)\n",
    "\n",
    "# Evaluate the model's performance\n",
    "\n",
    "# Accuracy\n",
    "accuracy_gbc = accuracy_score(Y_test, Y_pred_gbc)\n",
    "print(f\"Accuracy: {accuracy_gbc * 100:.2f}%\")\n",
    "\n",
    "# Confusion Matrix\n",
    "conf_matrix_gbc = confusion_matrix(Y_test, Y_pred_gbc)\n",
    "print(\"Confusion Matrix:\")\n",
    "print(conf_matrix_gbc)\n",
    "\n",
    "# Classification Report\n",
    "print(\"Classification Report:\")\n",
    "print(classification_report(Y_test, Y_pred_gbc))\n"
   ]
  },
  {
   "cell_type": "markdown",
   "id": "ec594132",
   "metadata": {},
   "source": [
    "**4. Evaluating the SVM classifier**"
   ]
  },
  {
   "cell_type": "code",
   "execution_count": 50,
   "id": "b6451bbd",
   "metadata": {},
   "outputs": [
    {
     "name": "stdout",
     "output_type": "stream",
     "text": [
      "Accuracy: 99.50%\n",
      "Confusion Matrix:\n",
      "[[ 90   0]\n",
      " [  2 309]]\n",
      "Classification Report:\n",
      "              precision    recall  f1-score   support\n",
      "\n",
      "           0       0.98      1.00      0.99        90\n",
      "           1       1.00      0.99      1.00       311\n",
      "\n",
      "    accuracy                           1.00       401\n",
      "   macro avg       0.99      1.00      0.99       401\n",
      "weighted avg       1.00      1.00      1.00       401\n",
      "\n"
     ]
    }
   ],
   "source": [
    "# Initialize and train the SVM Classifier\n",
    "svm_clf = SVC(kernel='linear', C=1, random_state=42)\n",
    "svm_clf.fit(X_train, Y_train)\n",
    "\n",
    "# Predict using the test set\n",
    "Y_pred_svm = svm_clf.predict(X_test)\n",
    "\n",
    "# Evaluate the model's performance\n",
    "\n",
    "# Accuracy\n",
    "accuracy_svm = accuracy_score(Y_test, Y_pred_svm)\n",
    "print(f\"Accuracy: {accuracy_svm * 100:.2f}%\")\n",
    "\n",
    "# Confusion Matrix\n",
    "conf_matrix_svm = confusion_matrix(Y_test, Y_pred_svm)\n",
    "print(\"Confusion Matrix:\")\n",
    "print(conf_matrix_svm)\n",
    "\n",
    "# Classification Report\n",
    "print(\"Classification Report:\")\n",
    "print(classification_report(Y_test, Y_pred_svm))\n"
   ]
  },
  {
   "cell_type": "markdown",
   "id": "8841362c",
   "metadata": {},
   "source": [
    "**5. Evaluating XGBoost classifier**"
   ]
  },
  {
   "cell_type": "code",
   "execution_count": 51,
   "id": "939c327c",
   "metadata": {},
   "outputs": [
    {
     "name": "stdout",
     "output_type": "stream",
     "text": [
      "Accuracy: 99.00%\n",
      "Confusion Matrix:\n",
      "[[ 88   2]\n",
      " [  2 309]]\n",
      "Classification Report:\n",
      "              precision    recall  f1-score   support\n",
      "\n",
      "           0       0.98      0.98      0.98        90\n",
      "           1       0.99      0.99      0.99       311\n",
      "\n",
      "    accuracy                           0.99       401\n",
      "   macro avg       0.99      0.99      0.99       401\n",
      "weighted avg       0.99      0.99      0.99       401\n",
      "\n"
     ]
    }
   ],
   "source": [
    "# Initialize and train the XGBoost Classifier\n",
    "xgb_clf = XGBClassifier(objective=\"binary:logistic\", n_estimators=100, random_state=42)\n",
    "xgb_clf.fit(X_train, Y_train)\n",
    "\n",
    "# Predict using the test set\n",
    "Y_pred_xgb = xgb_clf.predict(X_test)\n",
    "\n",
    "# Evaluate the model's performance\n",
    "\n",
    "# Accuracy\n",
    "accuracy_xgb = accuracy_score(Y_test, Y_pred_xgb)\n",
    "print(f\"Accuracy: {accuracy_xgb * 100:.2f}%\")\n",
    "\n",
    "# Confusion Matrix\n",
    "conf_matrix_xgb = confusion_matrix(Y_test, Y_pred_xgb)\n",
    "print(\"Confusion Matrix:\")\n",
    "print(conf_matrix_xgb)\n",
    "\n",
    "# Classification Report\n",
    "print(\"Classification Report:\")\n",
    "print(classification_report(Y_test, Y_pred_xgb))\n"
   ]
  },
  {
   "cell_type": "markdown",
   "id": "de13f68b",
   "metadata": {},
   "source": [
    "### Observations:"
   ]
  },
  {
   "cell_type": "markdown",
   "id": "ae9c28c6",
   "metadata": {},
   "source": [
    "**1. The highest accuracy was obtained from SVM Classifier resuting in 99.50% and the lowest accuracy was obtained from Gradient Boosting classifier leading to 98.75%. <br> 2. A fascinating observation to make is that the remaining Classifiers, that is KNN, Random forest and XGboost have resulted in equal accuracy rate of 99.00% which leaves us with an extremely narrow difference.<br> 3. It is quite evident that calculating the moving averages of the stocks have resulted in optimal data followed by efficient predictions and accuracy rates.**"
   ]
  },
  {
   "cell_type": "markdown",
   "id": "92d6edaf",
   "metadata": {},
   "source": [
    "# EXTRA CREDIT"
   ]
  },
  {
   "cell_type": "markdown",
   "id": "20e8b4d8",
   "metadata": {},
   "source": [
    "### Try to tune some classifiers (you decide which ones, anywill do), by changing their default parameters.<br> \n",
    "**Classifiers chosen to tune are KNN, Gradient Boosting and Random Forest for STRATEGY 1**<br>**The reason for proceeding with Strategy 1: The accuracy is lower for the models, hence we try implementing Hyperparameter Tuning to increase accuracy**"
   ]
  },
  {
   "cell_type": "code",
   "execution_count": 52,
   "id": "92be3ee5",
   "metadata": {},
   "outputs": [],
   "source": [
    "# Defining feature variable 'X' and target variable 'Y'\n",
    "X = amzn_data_strat1.drop(columns=['signal']).copy()\n",
    "Y = amzn_data_strat1['signal']\n",
    "\n",
    "# Split the data into training and test sets with an 80/20 ratio\n",
    "X_train, X_test, Y_train, Y_test = train_test_split(X, Y, test_size=0.20, random_state=42)"
   ]
  },
  {
   "cell_type": "markdown",
   "id": "327a5927",
   "metadata": {},
   "source": [
    "### Hyperparameter Tuning of KNN Classifier: <br>\n",
    "**The following are the parameters that have been changed in order to leverage efficiency - <br><br> 1. Number of Neighbors (n_neighbors): A range of values from 1 to 20 was tested for the n_neighbors parameter.\n",
    "5-fold cross-validation was used to evaluate the accuracy of the KNN model for each value of n_neighbors.\n",
    "The optimal number of neighbors was determined based on the highest average cross-validation accuracy.<br> 2. Weight Function (weights): After identifying the optimal number of neighbors, the KNN classifier was trained with a weight function set to 'distance'. This means that closer neighbors of a query point will have a greater influence on the prediction than neighbors that are farther away.**\n"
   ]
  },
  {
   "cell_type": "code",
   "execution_count": 53,
   "id": "ad8c387e",
   "metadata": {},
   "outputs": [
    {
     "name": "stdout",
     "output_type": "stream",
     "text": [
      "The optimal number of neighbors is 5 with an accuracy of 52.21%\n",
      "Optimized Accuracy: 53.51%\n",
      "Optimized Confusion Matrix:\n",
      "[[105 105]\n",
      " [100 131]]\n",
      "Optimized Classification Report:\n",
      "              precision    recall  f1-score   support\n",
      "\n",
      "          -1       0.51      0.50      0.51       210\n",
      "           1       0.56      0.57      0.56       231\n",
      "\n",
      "    accuracy                           0.54       441\n",
      "   macro avg       0.53      0.53      0.53       441\n",
      "weighted avg       0.53      0.54      0.53       441\n",
      "\n"
     ]
    }
   ],
   "source": [
    "from sklearn.model_selection import cross_val_score\n",
    "\n",
    "# List to hold the average accuracy for each value of n_neighbors\n",
    "cv_scores = []\n",
    "\n",
    "# List of values for n_neighbors\n",
    "neighbors = list(range(1, 21))\n",
    "\n",
    "for k in neighbors:\n",
    "    knn_cv = KNeighborsClassifier(n_neighbors=k)\n",
    "    scores = cross_val_score(knn_cv, X_train, Y_train, cv=5, scoring='accuracy')\n",
    "    cv_scores.append(scores.mean())\n",
    "\n",
    "# Determine the best n_neighbors\n",
    "optimal_k = neighbors[cv_scores.index(max(cv_scores))]\n",
    "print(f\"The optimal number of neighbors is {optimal_k} with an accuracy of {max(cv_scores) * 100:.2f}%\")\n",
    "\n",
    "# Train and evaluate the KNN classifier with the optimal number of neighbors\n",
    "knn_optimal = KNeighborsClassifier(n_neighbors=optimal_k, weights='distance')\n",
    "knn_optimal.fit(X_train, Y_train)\n",
    "Y_pred_knn_optimal = knn_optimal.predict(X_test)\n",
    "\n",
    "accuracy_knn_optimal = accuracy_score(Y_test, Y_pred_knn_optimal)\n",
    "print(f\"Optimized Accuracy: {accuracy_knn_optimal * 100:.2f}%\")\n",
    "\n",
    "\n",
    "conf_matrix_knn_optimal = confusion_matrix(Y_test, Y_pred_knn_optimal)\n",
    "print(\"Optimized Confusion Matrix:\")\n",
    "print(conf_matrix_knn_optimal)\n",
    "\n",
    "print(\"Optimized Classification Report:\")\n",
    "print(classification_report(Y_test, Y_pred_knn_optimal))\n"
   ]
  },
  {
   "cell_type": "markdown",
   "id": "f1d3a2d5",
   "metadata": {},
   "source": [
    "**Takeaways: <br> The best number of neighbors for the KNN classifier, determined through hyperparameter tuning, is 5.<br>\n",
    "The cross-validation accuracy for this optimal number of neighbors is 52.21%, while the accuracy on the test set slightly improved to 53.51%. This suggests that the model's performance is relatively consistent across both the validation and test datasets.**"
   ]
  },
  {
   "cell_type": "markdown",
   "id": "05f17fd1",
   "metadata": {},
   "source": [
    "### Hyperparameter Tuning of Random Forest Classifier: <br>\n",
    "**The following are the parameters that have been changed in order to leverage efficiency (variety of parameters tested) - <br><br>1. Number of Trees (n_estimators): The code tests four different values to determine the optimal number of trees in the random forest, ranging from smaller forests (50 trees) to much larger ones (500 trees).<br>2. Tree Depth (max_depth): Five possible values are explored, including the possibility of trees with unlimited depth (None) and trees with varying constrained depths (from 10 to 40).<br>3. Minimum Samples for Split (min_samples_split): The model examines 3 possible threshold values.<br>4. Minimum Samples for a Leaf (min_samples_leaf): This determines the smallest number of samples required to be at a leaf node. Three values (1, 2, 4) are tested.<br>5. A 3-fold cross-validation is employed during the grid search (specified by cv=3).**"
   ]
  },
  {
   "cell_type": "code",
   "execution_count": 54,
   "id": "ef907a4a",
   "metadata": {},
   "outputs": [
    {
     "name": "stdout",
     "output_type": "stream",
     "text": [
      "Fitting 3 folds for each of 180 candidates, totalling 540 fits\n",
      "Best Parameters: {'max_depth': 10, 'min_samples_leaf': 2, 'min_samples_split': 10, 'n_estimators': 100}\n",
      "Optimized Random Forest Model Accuracy: 52.83%\n",
      "Optimized Confusion Matrix:\n",
      "[[ 55 155]\n",
      " [ 53 178]]\n",
      "Optimized Classification Report:\n",
      "              precision    recall  f1-score   support\n",
      "\n",
      "          -1       0.51      0.26      0.35       210\n",
      "           1       0.53      0.77      0.63       231\n",
      "\n",
      "    accuracy                           0.53       441\n",
      "   macro avg       0.52      0.52      0.49       441\n",
      "weighted avg       0.52      0.53      0.50       441\n",
      "\n"
     ]
    }
   ],
   "source": [
    "# Random forest\n",
    "\n",
    "from sklearn.model_selection import GridSearchCV\n",
    "\n",
    "# Hyperparameters to tune\n",
    "param_grid = {\n",
    "    'n_estimators': [50, 100, 200, 500],\n",
    "    'max_depth': [None, 10, 20, 30, 40],\n",
    "    'min_samples_split': [2, 5, 10],\n",
    "    'min_samples_leaf': [1, 2, 4]\n",
    "}\n",
    "\n",
    "# Create the grid search object\n",
    "grid_search = GridSearchCV(estimator=rf_clf, param_grid=param_grid, \n",
    "                           cv=3, n_jobs=-1, verbose=2, scoring='accuracy')\n",
    "\n",
    "# Fit the grid search to the data\n",
    "grid_search.fit(X_train, Y_train.ravel())\n",
    "\n",
    "# Get the best parameters from the grid search\n",
    "best_params = grid_search.best_params_\n",
    "print(f\"Best Parameters: {best_params}\")\n",
    "\n",
    "# Train and evaluate the classifier with the best parameters\n",
    "rf_clf_best = RandomForestClassifier(**best_params, random_state=42)\n",
    "rf_clf_best.fit(X_train, Y_train.ravel())\n",
    "Y_pred_rf_best = rf_clf_best.predict(X_test)\n",
    "\n",
    "accuracy_rf_best = accuracy_score(Y_test, Y_pred_rf_best)\n",
    "print(f'Optimized Random Forest Model Accuracy: {accuracy_rf_best * 100:.2f}%')\n",
    "\n",
    "conf_matrix_best = confusion_matrix(Y_test, Y_pred_rf_best)\n",
    "print(\"Optimized Confusion Matrix:\")\n",
    "print(conf_matrix_best)\n",
    "\n",
    "print(\"Optimized Classification Report:\")\n",
    "print(classification_report(Y_test, Y_pred_rf_best))\n"
   ]
  },
  {
   "cell_type": "markdown",
   "id": "a09d169f",
   "metadata": {},
   "source": [
    "### Hyperparameter Tuning of Gradient Boosting Classifier: <br>\n",
    "**The following are the parameters that have been changed in order to leverage efficiency (variety of parameters tested):<br><br>1. Number of Boosting Stages (n_estimators): 3 different values are tested to determine the optimal number of boosting stages (trees) for the gradient boosting model, specifically 50, 100, and 200 stages.<br>2. Tree Depth (max_depth): The code examines 4 depths for individual trees, ranging from shallow trees (depth of 3) to deeper trees (depth of 9).<br>3. Learning Rate: This tuning parameter scales the contribution of each tree. Three values are considered: 0.001, 0.01, and 0.1.<br>4. Minimum Samples for Split and Leaf: The grid search tests thresholds of 2, 4, and 6 for split. The smallest number of samples required to be at a leaf node is explored with values of 1, 2, and 3.<br>5.The grid search is conducted with a 3-fold cross-validation (cv=3), segmenting the training data into three portions.**"
   ]
  },
  {
   "cell_type": "code",
   "execution_count": 55,
   "id": "831f67bd",
   "metadata": {},
   "outputs": [
    {
     "name": "stdout",
     "output_type": "stream",
     "text": [
      "Fitting 3 folds for each of 324 candidates, totalling 972 fits\n",
      "Best Parameters for Gradient Boosting: {'learning_rate': 0.01, 'max_depth': 5, 'min_samples_leaf': 2, 'min_samples_split': 2, 'n_estimators': 200}\n",
      "Optimized Gradient Boosting Model Accuracy: 51.93%\n",
      "Optimized Confusion Matrix:\n",
      "[[ 36 174]\n",
      " [ 38 193]]\n",
      "Optimized Classification Report:\n",
      "              precision    recall  f1-score   support\n",
      "\n",
      "          -1       0.49      0.17      0.25       210\n",
      "           1       0.53      0.84      0.65       231\n",
      "\n",
      "    accuracy                           0.52       441\n",
      "   macro avg       0.51      0.50      0.45       441\n",
      "weighted avg       0.51      0.52      0.46       441\n",
      "\n"
     ]
    }
   ],
   "source": [
    "# Gradient Boosting\n",
    "\n",
    "from sklearn.model_selection import GridSearchCV\n",
    "\n",
    "# Hyperparameters to tune\n",
    "param_grid_gb = {\n",
    "    'n_estimators': [50, 100, 200],\n",
    "    'max_depth': [3, 5, 7, 9],\n",
    "    'learning_rate': [0.001, 0.01, 0.1],\n",
    "    'min_samples_split': [2, 4, 6],\n",
    "    'min_samples_leaf': [1, 2, 3]\n",
    "}\n",
    "\n",
    "# Create the grid search object\n",
    "grid_search_gb = GridSearchCV(estimator=gb_clf, param_grid=param_grid_gb, \n",
    "                              cv=3, n_jobs=-1, verbose=2, scoring='accuracy')\n",
    "\n",
    "# Fit the grid search to the data\n",
    "grid_search_gb.fit(X_train, Y_train.ravel())\n",
    "\n",
    "# Get the best parameters from the grid search\n",
    "best_params_gb = grid_search_gb.best_params_\n",
    "print(f\"Best Parameters for Gradient Boosting: {best_params_gb}\")\n",
    "\n",
    "# Train and evaluate the classifier with the best parameters\n",
    "gb_clf_best = GradientBoostingClassifier(**best_params_gb, random_state=42)\n",
    "gb_clf_best.fit(X_train, Y_train.ravel())\n",
    "Y_pred_gb_best = gb_clf_best.predict(X_test)\n",
    "\n",
    "accuracy_gb_best = accuracy_score(Y_test, Y_pred_gb_best)\n",
    "print(f'Optimized Gradient Boosting Model Accuracy: {accuracy_gb_best * 100:.2f}%')\n",
    "\n",
    "conf_matrix_best = confusion_matrix(Y_test, Y_pred_gb_best)\n",
    "print(\"Optimized Confusion Matrix:\")\n",
    "print(conf_matrix_best)\n",
    "\n",
    "print(\"Optimized Classification Report:\")\n",
    "print(classification_report(Y_test, Y_pred_gb_best))\n"
   ]
  },
  {
   "cell_type": "markdown",
   "id": "fab8e8c1",
   "metadata": {},
   "source": [
    "## Strategy Comparison: Strategy 1 vs. Strategy 2\n",
    "\n",
    "### Strategy 1: Price Movement Prediction\n",
    "**Objective**: Predict next day's price movements using current day's closing price.\n",
    "#### Signal Generation:\n",
    "**Buy Signal**: Tomorrow’s close price > Today’s close price.\n",
    "\n",
    "**Sell Signal**: Tomorrow’s close price ≤ Today’s close price.\n",
    "\n",
    "**Data Handling**: Direct use of closing prices without significant preprocessing.\n",
    "#### Algorithm Accuracy:\n",
    "**Highest**: KNN Classifier (54.42%).\n",
    "\n",
    "**Lowest**: Gradient Boosting (50.79%).\n",
    "\n",
    "**Data Optimization**: Non-optimal data used.\n",
    "\n",
    "**Challenges**: Lower accuracy due to non-optimized data.\n",
    "\n",
    "### Strategy 2: Moving Average Crossover\n",
    "\n",
    "**Objective**: Leverage Moving Averages crossover for potential buy/sell signals.\n",
    "\n",
    "#### Signal Generation:\n",
    "\n",
    "**Golden Cross**: Bullish, 50-day MA crosses above 200-day MA.\n",
    "\n",
    "**Death Cross**: Bearish, 50-day MA crosses below 200-day MA.\n",
    "\n",
    "**Data Handling**: Optimized with null handling, correlation analysis, and focusing on adjusted close price.\n",
    "\n",
    "#### Algorithm Accuracy:\n",
    "\n",
    "**Highest**: SVM Classifier (99.50%).\n",
    "\n",
    "**Lowest**: Gradient Boosting (98.75%).\n",
    "\n",
    "**Data Optimization**: Calculating moving averages leads to more optimized data.\n",
    "\n",
    "**Advantages**: Higher accuracy due to data optimization and refined signal generation.\n",
    "\n",
    "### Key Differences:\n",
    "\n",
    "#### Data Preprocessing & Optimization:\n",
    "Strategy 2 performs more extensive data preprocessing and optimization.\n",
    "Strategy 1 uses data directly with minimal handling.\n",
    "\n",
    "#### Signal Generation:\n",
    "Strategy 1 relies solely on price movements.\n",
    "Strategy 2 utilizes Moving Average crossovers, providing refined signals.\n",
    "\n",
    "#### Algorithm Accuracy:\n",
    "Strategy 2’s classifiers exhibit significantly higher accuracy than those in Strategy 1.\n",
    "Overall Reliability:\n",
    "Strategy 2 is more reliable due to optimized data and higher classifier accuracy.\n"
   ]
  }
 ],
 "metadata": {
  "kernelspec": {
   "display_name": "Python 3 (ipykernel)",
   "language": "python",
   "name": "python3"
  },
  "language_info": {
   "codemirror_mode": {
    "name": "ipython",
    "version": 3
   },
   "file_extension": ".py",
   "mimetype": "text/x-python",
   "name": "python",
   "nbconvert_exporter": "python",
   "pygments_lexer": "ipython3",
   "version": "3.9.12"
  }
 },
 "nbformat": 4,
 "nbformat_minor": 5
}
